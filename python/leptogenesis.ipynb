{
 "cells": [
  {
   "cell_type": "code",
   "execution_count": null,
   "metadata": {
    "init_cell": true
   },
   "outputs": [],
   "source": [
    "import gc\n",
    "import glob\n",
    "import random\n",
    "from pathlib import Path\n",
    "from tempfile import gettempdir\n",
    "\n",
    "import matplotlib as mpl\n",
    "import matplotlib.pyplot as pyplot\n",
    "import numpy as np\n",
    "import pandas as pd\n",
    "import scipy as sp\n",
    "import scipy.constants\n",
    "from IPython.core.display import HTML, display\n",
    "from matplotlib import cm, ticker\n",
    "from numpy import ma"
   ]
  },
  {
   "cell_type": "code",
   "execution_count": null,
   "metadata": {
    "init_cell": true
   },
   "outputs": [],
   "source": [
    "import warnings\n",
    "\n",
    "warnings.filterwarnings(\"ignore\")"
   ]
  },
  {
   "cell_type": "code",
   "execution_count": null,
   "metadata": {
    "init_cell": true
   },
   "outputs": [],
   "source": [
    "COLORS = mpl.rcParams[\"axes.prop_cycle\"].by_key()[\"color\"]\n",
    "\n",
    "# Toggle on/off interactive notebooks\n",
    "if False:\n",
    "    %matplotlib notebook\n",
    "    FIGSIZE = 6\n",
    "else:\n",
    "    %matplotlib inline\n",
    "    FIGSIZE = 12\n",
    "\n",
    "mpl.rcParams[\"figure.figsize\"] = [FIGSIZE, FIGSIZE / sp.constants.golden]"
   ]
  },
  {
   "cell_type": "code",
   "execution_count": null,
   "metadata": {
    "init_cell": true
   },
   "outputs": [],
   "source": [
    "def random_drop(df, count=100_000, inplace=False):\n",
    "    ratio = count / df.index.size\n",
    "    selector = list(filter(lambda _: random.random() > ratio, df.index))\n",
    "    return df.drop(selector, inplace=inplace)"
   ]
  },
  {
   "cell_type": "code",
   "execution_count": null,
   "metadata": {
    "init_cell": true
   },
   "outputs": [],
   "source": [
    "OUTPUT_DIR = Path(gettempdir()) / \"boltzmann_solver\" / \"leptogenesis\"\n",
    "# OUTPUT_DIR = (\n",
    "#     Path(\"/media/ssh/uni-josh\") / \"tmp\" / \"josh\" / \"boltzmann_solver\" / \"leptogenesis\"\n",
    "# )\n",
    "# OUTPUT_DIR = Path(\"../output/\") / \"leptogenesis\"\n",
    "data = dict()"
   ]
  },
  {
   "cell_type": "code",
   "execution_count": null,
   "metadata": {},
   "outputs": [],
   "source": [
    "def filter_ptcl(ptcl, t):\n",
    "    if t.startswith(\"eq\"):\n",
    "        return filter(lambda x: x.startswith(\"(\"), ptcl)\n",
    "    if t == \"delta\":\n",
    "        return filter(lambda x: x.startswith(\"Δ\"), ptcl)\n",
    "    if t.startswith(\"sol\"):\n",
    "        return filter(lambda x: not x.startswith(\"Δ\") and not x.startswith(\"(\"), ptcl)\n",
    "    else:\n",
    "        raise ValueError(\n",
    "            f\"Type '{t}' must be one of: eq[uilibrium], delta or sol[ution].\"\n",
    "        )"
   ]
  },
  {
   "cell_type": "markdown",
   "metadata": {},
   "source": [
    "# Masses and Widths"
   ]
  },
  {
   "cell_type": "code",
   "execution_count": null,
   "metadata": {},
   "outputs": [],
   "source": [
    "data[\"mass\"] = pd.read_csv(OUTPUT_DIR / \"mass.csv\").sort_values(by=\"beta\")\n",
    "data[\"width\"] = pd.read_csv(OUTPUT_DIR / \"width.csv\").sort_values(by=\"beta\")\n",
    "\n",
    "data[\"mass beta\"] = data[\"mass\"].copy()\n",
    "data[\"mass beta\"].iloc[:, 1:] = (\n",
    "    data[\"mass\"].iloc[:, 1:].multiply(data[\"mass\"].iloc[:, 0], axis=\"index\")\n",
    ")\n",
    "\n",
    "data[\"width / mass\"] = data[\"width\"].copy()\n",
    "data[\"width / mass\"].iloc[:, 1:] = (\n",
    "    data[\"width\"].iloc[:, 1:]\n",
    "    / data[\"mass\"].iloc[:, 1:]  # .multiply(data[\"mass\"].iloc[:, 0], axis=\"index\")\n",
    ")"
   ]
  },
  {
   "cell_type": "code",
   "execution_count": null,
   "metadata": {},
   "outputs": [],
   "source": [
    "fig, axs = pyplot.subplots(\n",
    "    nrows=2, sharex=True, figsize=[FIGSIZE, 2 * FIGSIZE / sp.constants.golden_ratio]\n",
    ")\n",
    "\n",
    "data[\"mass beta\"].plot(\n",
    "    x=\"beta\", y=[\"A\", \"W\", \"H\", \"L3\", \"e3\", \"Q3\", \"u3\", \"d3\"], ax=axs[0]\n",
    ")\n",
    "data[\"mass\"].plot(x=\"beta\", y=data[\"mass\"].columns[-3:], ax=axs[1])\n",
    "\n",
    "for ax in axs:\n",
    "    ax.set_xlabel(r\"Inverse Temperature [GeV$^{-1}$]\")\n",
    "    ax.set_xscale(\"log\")\n",
    "    ax.set_ylabel(\"Mass / Temperature\")\n",
    "    ax.set_yscale(\"log\")\n",
    "axs[-1].set_ylabel(\"Mass [GeV]\")\n",
    "\n",
    "pyplot.show()"
   ]
  },
  {
   "cell_type": "code",
   "execution_count": null,
   "metadata": {},
   "outputs": [],
   "source": [
    "fig, axs = pyplot.subplots(\n",
    "    nrows=2, sharex=True, figsize=[FIGSIZE, 2 * FIGSIZE / sp.constants.golden_ratio]\n",
    ")\n",
    "\n",
    "data[\"width / mass\"].plot(x=\"beta\", y=[\"H\"], ax=axs[0])\n",
    "data[\"width / mass\"].plot(x=\"beta\", y=[\"N1\", \"N2\", \"N3\"], ax=axs[1])\n",
    "\n",
    "for ax in axs:\n",
    "    ax.set_xlabel(r\"Inverse Temperature [GeV$^{-1}$]\")\n",
    "    ax.set_xscale(\"log\")\n",
    "    ax.set_ylabel(\"Width / Temperature\")\n",
    "    ax.set_yscale(\"log\")\n",
    "axs[-1].set_ylabel(\"Width [GeV]\")\n",
    "\n",
    "pyplot.show()"
   ]
  },
  {
   "cell_type": "markdown",
   "metadata": {},
   "source": [
    "# Decay Only"
   ]
  },
  {
   "cell_type": "markdown",
   "metadata": {},
   "source": [
    "## 1 Generation"
   ]
  },
  {
   "cell_type": "code",
   "execution_count": null,
   "metadata": {
    "tags": [
     "#load_n"
    ]
   },
   "outputs": [],
   "source": [
    "data[\"n\"] = random_drop(pd.read_csv(OUTPUT_DIR / \"decay_only\" / \"1gen\" / \"n.csv\"))\n",
    "data[\"n\"][\"ΔB-L\"] = (1 / 3) * data[\"n\"][\n",
    "    [\"ΔQ1\", \"ΔQ2\", \"ΔQ3\", \"Δu1\", \"Δu2\", \"Δu3\", \"Δd1\", \"Δd2\", \"Δd3\"]\n",
    "].sum(axis=1)\n",
    "data[\"n\"][\"ΔB-L\"] -= data[\"n\"][[\"ΔL1\", \"ΔL2\", \"ΔL3\", \"Δe1\", \"Δe2\", \"Δe3\"]].sum(axis=1)\n",
    "data[\"-n\"] = data[\"n\"].apply(\n",
    "    lambda c: c.apply(np.negative) if c.name not in [\"step\", \"beta\"] else c\n",
    ")\n",
    "XSCALE = \"log\" if data[\"n\"][\"beta\"].max() / data[\"n\"][\"beta\"].min() > 100 else \"linear\"\n",
    "\n",
    "gc.collect()\n",
    "\n",
    "print(\"Integration steps:\", len(data[\"n\"].index))\n",
    "print(\"Final B-L:\", data[\"n\"][\"ΔB-L\"].iloc[-1])"
   ]
  },
  {
   "cell_type": "code",
   "execution_count": null,
   "metadata": {
    "tags": [
     "=>load_n"
    ]
   },
   "outputs": [],
   "source": [
    "fig, ax = pyplot.subplots()\n",
    "ax.set_title(\"Integration Evolution\")\n",
    "ax.set_yscale(\"log\")\n",
    "data[\"n\"].plot(x=\"step\", y=\"beta\", ax=ax)\n",
    "\n",
    "pyplot.show()"
   ]
  },
  {
   "cell_type": "code",
   "execution_count": null,
   "metadata": {
    "tags": [
     "=>load_n"
    ]
   },
   "outputs": [],
   "source": [
    "fig, axs = pyplot.subplots(\n",
    "    nrows=2, sharex=True, figsize=[FIGSIZE, 2 * FIGSIZE / sp.constants.golden_ratio]\n",
    ")\n",
    "for ax in axs:\n",
    "    ax.set_xscale(XSCALE)\n",
    "\n",
    "## Asymmetries\n",
    "axs[0].set_title(\"asymmetries\")\n",
    "axs[0].set_yscale(\"log\")\n",
    "axs[0].set_ylim(bottom=1e-30)\n",
    "data[\"n\"].plot(\n",
    "    x=\"beta\", y=\"ΔB-L\", ax=axs[0], linewidth=3, color=\"black\", linestyle=\"solid\",\n",
    ")\n",
    "data[\"-n\"].plot(\n",
    "    x=\"beta\",\n",
    "    y=\"ΔB-L\",\n",
    "    ax=axs[0],\n",
    "    linewidth=3,\n",
    "    color=\"black\",\n",
    "    linestyle=\"dashed\",\n",
    "    legend=False,\n",
    ")\n",
    "data[\"n\"].plot(\n",
    "    x=\"beta\", y=[\"ΔH\", \"ΔL1\", \"ΔN1\"], ax=axs[0], color=COLORS, linestyle=\"solid\",\n",
    ")\n",
    "data[\"-n\"].plot(\n",
    "    x=\"beta\",\n",
    "    y=[\"ΔH\", \"ΔL1\", \"ΔN1\"],\n",
    "    ax=axs[0],\n",
    "    color=COLORS,\n",
    "    linestyle=\"dashed\",\n",
    "    legend=False,\n",
    ")\n",
    "\n",
    "\n",
    "## Number densities\n",
    "axs[1].set_title(\"Number Densities\")\n",
    "data[\"n\"].abs().plot(\n",
    "    x=\"beta\", y=[\"H\", \"L1\", \"N1\"], ax=axs[1], color=COLORS,\n",
    ")\n",
    "data[\"n\"].abs().plot(\n",
    "    x=\"beta\",\n",
    "    y=[\"(H)\", \"(L1)\", \"(N1)\"],\n",
    "    ax=axs[1],\n",
    "    color=COLORS,\n",
    "    linestyle=\"dotted\",\n",
    "    legend=False,\n",
    ")\n",
    "\n",
    "pyplot.show()"
   ]
  },
  {
   "cell_type": "markdown",
   "metadata": {},
   "source": [
    "## 3 Generations"
   ]
  },
  {
   "cell_type": "code",
   "execution_count": null,
   "metadata": {
    "tags": [
     "#load_n"
    ]
   },
   "outputs": [],
   "source": [
    "data[\"n\"] = random_drop(pd.read_csv(OUTPUT_DIR / \"decay_only\" / \"3gen\" / \"n.csv\"))\n",
    "data[\"n\"][\"ΔB-L\"] =(1/3) * data[\"n\"][\n",
    "    [\"ΔQ1\", \"ΔQ2\", \"ΔQ3\", \"Δu1\", \"Δu2\", \"Δu3\", \"Δd1\", \"Δd2\", \"Δd3\"]\n",
    "].sum(axis=1)\n",
    "data[\"n\"][\"ΔB-L\"] -= data[\"n\"][[\"ΔL1\", \"ΔL2\", \"ΔL3\", \"Δe1\", \"Δe2\", \"Δe3\"]].sum(axis=1)\n",
    "data[\"-n\"] = data[\"n\"].apply(\n",
    "    lambda c: c.apply(np.negative) if c.name not in [\"step\", \"beta\"] else c\n",
    ")\n",
    "XSCALE = \"log\" if data[\"n\"][\"beta\"].max() / data[\"n\"][\"beta\"].min() > 100 else \"linear\"\n",
    "\n",
    "gc.collect()\n",
    "\n",
    "print(\"Integration steps:\", len(data[\"n\"].index))\n",
    "print(\"Final B-L:\", data[\"n\"][\"ΔB-L\"].iloc[-1])"
   ]
  },
  {
   "cell_type": "code",
   "execution_count": null,
   "metadata": {
    "tags": [
     "=>load_n"
    ]
   },
   "outputs": [],
   "source": [
    "fig, ax = pyplot.subplots()\n",
    "ax.set_title(\"Integration Evolution\")\n",
    "ax.set_yscale(\"log\")\n",
    "data[\"n\"].plot(x=\"step\", y=\"beta\", ax=ax)\n",
    "\n",
    "pyplot.show()"
   ]
  },
  {
   "cell_type": "code",
   "execution_count": null,
   "metadata": {
    "tags": [
     "=>load_n"
    ]
   },
   "outputs": [],
   "source": [
    "fig, axs = pyplot.subplots(\n",
    "    nrows=2, sharex=True, figsize=[FIGSIZE, 2 * FIGSIZE / sp.constants.golden_ratio]\n",
    ")\n",
    "for ax in axs:\n",
    "    ax.set_xscale(XSCALE)\n",
    "\n",
    "## Asymmetries\n",
    "axs[0].set_title(\"asymmetries\")\n",
    "axs[0].set_yscale(\"log\")\n",
    "axs[0].set_ylim(bottom=1e-30)\n",
    "data[\"n\"].plot(\n",
    "    x=\"beta\", y=\"ΔB-L\", ax=axs[0], linewidth=3, color=\"black\", linestyle=\"solid\",\n",
    ")\n",
    "data[\"-n\"].plot(\n",
    "    x=\"beta\",\n",
    "    y=\"ΔB-L\",\n",
    "    ax=axs[0],\n",
    "    linewidth=3,\n",
    "    color=\"black\",\n",
    "    linestyle=\"dashed\",\n",
    "    legend=False,\n",
    ")\n",
    "data[\"n\"].plot(\n",
    "    x=\"beta\", y=[\"ΔH\", \"ΔL1\", \"ΔL2\", \"ΔL3\", \"ΔN1\", \"ΔN2\", \"ΔN3\"], ax=axs[0], color=COLORS, linestyle=\"solid\",\n",
    ")\n",
    "data[\"-n\"].plot(\n",
    "    x=\"beta\",\n",
    "    y=[\"ΔH\", \"ΔL1\", \"ΔL2\", \"ΔL3\", \"ΔN1\", \"ΔN2\", \"ΔN3\"],\n",
    "    ax=axs[0],\n",
    "    color=COLORS,\n",
    "    linestyle=\"dashed\",\n",
    "    legend=False,\n",
    ")\n",
    "\n",
    "\n",
    "## Number densities\n",
    "axs[1].set_title(\"Number Densities\")\n",
    "data[\"n\"].abs().plot(\n",
    "    x=\"beta\", y=[\"H\", \"L1\", \"L2\", \"L3\", \"N1\", \"N2\", \"N3\"], ax=axs[1], color=COLORS,\n",
    ")\n",
    "data[\"n\"].abs().plot(\n",
    "    x=\"beta\",\n",
    "    y=[\"(H)\", \"(L1)\", \"(L2)\", \"(L3)\", \"(N1)\", \"(N2)\", \"(N3)\"],\n",
    "    ax=axs[1],\n",
    "    color=COLORS,\n",
    "    linestyle=\"dotted\",\n",
    "    legend=False,\n",
    ")\n",
    "\n",
    "pyplot.show()"
   ]
  },
  {
   "cell_type": "markdown",
   "metadata": {},
   "source": [
    "# $\\Delta L = 2$ Only"
   ]
  },
  {
   "cell_type": "markdown",
   "metadata": {},
   "source": [
    "## 1 Generation"
   ]
  },
  {
   "cell_type": "code",
   "execution_count": null,
   "metadata": {
    "tags": [
     "#load_n"
    ]
   },
   "outputs": [],
   "source": [
    "data[\"n\"] = random_drop(pd.read_csv(OUTPUT_DIR / \"washout_only\" / \"1gen\" / \"n.csv\"))\n",
    "data[\"n\"][\"ΔB-L\"] =(1/3) * data[\"n\"][\n",
    "    [\"ΔQ1\", \"ΔQ2\", \"ΔQ3\", \"Δu1\", \"Δu2\", \"Δu3\", \"Δd1\", \"Δd2\", \"Δd3\"]\n",
    "].sum(axis=1)\n",
    "data[\"n\"][\"ΔB-L\"] -= data[\"n\"][[\"ΔL1\", \"ΔL2\", \"ΔL3\", \"Δe1\", \"Δe2\", \"Δe3\"]].sum(axis=1)\n",
    "data[\"-n\"] = data[\"n\"].apply(\n",
    "    lambda c: c.apply(np.negative) if c.name not in [\"step\", \"beta\"] else c\n",
    ")\n",
    "XSCALE = \"log\" if data[\"n\"][\"beta\"].max() / data[\"n\"][\"beta\"].min() > 100 else \"linear\"\n",
    "\n",
    "gc.collect()\n",
    "\n",
    "print(\"Integration steps:\", len(data[\"n\"].index))\n",
    "print(\"Final B-L:\", data[\"n\"][\"ΔB-L\"].iloc[-1])"
   ]
  },
  {
   "cell_type": "code",
   "execution_count": null,
   "metadata": {
    "tags": [
     "=>load_n"
    ]
   },
   "outputs": [],
   "source": [
    "fig, ax = pyplot.subplots()\n",
    "ax.set_title(\"Integration Evolution\")\n",
    "ax.set_yscale(\"log\")\n",
    "data[\"n\"].plot(x=\"step\", y=\"beta\", ax=ax)\n",
    "\n",
    "pyplot.show()"
   ]
  },
  {
   "cell_type": "code",
   "execution_count": null,
   "metadata": {
    "tags": [
     "=>load_n"
    ]
   },
   "outputs": [],
   "source": [
    "fig, axs = pyplot.subplots(\n",
    "    nrows=2, sharex=True, figsize=[FIGSIZE, 2 * FIGSIZE / sp.constants.golden_ratio]\n",
    ")\n",
    "for ax in axs:\n",
    "    ax.set_xscale(XSCALE)\n",
    "\n",
    "## Asymmetries\n",
    "axs[0].set_title(\"asymmetries\")\n",
    "axs[0].set_yscale(\"log\")\n",
    "axs[0].set_ylim(bottom=1e-5)\n",
    "data[\"n\"].plot(\n",
    "    x=\"beta\", y=\"ΔB-L\", ax=axs[0], linewidth=3, color=\"black\", linestyle=\"solid\",\n",
    ")\n",
    "data[\"-n\"].plot(\n",
    "    x=\"beta\",\n",
    "    y=\"ΔB-L\",\n",
    "    ax=axs[0],\n",
    "    linewidth=3,\n",
    "    color=\"black\",\n",
    "    linestyle=\"dashed\",\n",
    "    legend=False,\n",
    ")\n",
    "data[\"n\"].plot(\n",
    "    x=\"beta\",\n",
    "    y=[\"ΔH\", \"ΔL1\", \"ΔN1\"],\n",
    "    ax=axs[0],\n",
    "    color=COLORS,\n",
    "    linestyle=\"solid\",\n",
    ")\n",
    "data[\"-n\"].plot(\n",
    "    x=\"beta\",\n",
    "    y=[\"ΔH\", \"ΔL1\", \"ΔN1\"],\n",
    "    ax=axs[0],\n",
    "    color=COLORS,\n",
    "    linestyle=\"dashed\",\n",
    "    legend=False,\n",
    ")\n",
    "\n",
    "\n",
    "## Number densities\n",
    "axs[1].set_title(\"Number Densities\")\n",
    "data[\"n\"].abs().plot(\n",
    "    x=\"beta\", y=[\"H\", \"L1\", \"N1\"], ax=axs[1], color=COLORS,\n",
    ")\n",
    "data[\"n\"].abs().plot(\n",
    "    x=\"beta\",\n",
    "    y=[\"(H)\", \"(L1)\", \"(N1)\"],\n",
    "    ax=axs[1],\n",
    "    color=COLORS,\n",
    "    linestyle=\"dotted\",\n",
    "    legend=False,\n",
    ")\n",
    "\n",
    "pyplot.show()"
   ]
  },
  {
   "cell_type": "markdown",
   "metadata": {},
   "source": [
    "# Decay + $\\Delta L = 2$"
   ]
  },
  {
   "cell_type": "markdown",
   "metadata": {},
   "source": [
    "## 1 Generation"
   ]
  },
  {
   "cell_type": "code",
   "execution_count": null,
   "metadata": {},
   "outputs": [],
   "source": [
    "data[\"n\"] = random_drop(pd.read_csv(OUTPUT_DIR / \"decay_washout\" / \"1gen\" / \"n.csv\"))\n",
    "data[\"n\"][\"ΔB-L\"] =(1/3) * data[\"n\"][\n",
    "    [\"ΔQ1\", \"ΔQ2\", \"ΔQ3\", \"Δu1\", \"Δu2\", \"Δu3\", \"Δd1\", \"Δd2\", \"Δd3\"]\n",
    "].sum(axis=1)\n",
    "data[\"n\"][\"ΔB-L\"] -= data[\"n\"][[\"ΔL1\", \"ΔL2\", \"ΔL3\", \"Δe1\", \"Δe2\", \"Δe3\"]].sum(axis=1)\n",
    "data[\"-n\"] = data[\"n\"].apply(\n",
    "    lambda c: c.apply(np.negative) if c.name not in [\"step\", \"beta\"] else c\n",
    ")\n",
    "XSCALE = \"log\" if data[\"n\"][\"beta\"].max() / data[\"n\"][\"beta\"].min() > 100 else \"linear\"\n",
    "\n",
    "gc.collect()\n",
    "\n",
    "print(\"Integration steps:\", len(data[\"n\"].index))\n",
    "print(\"Final B-L:\", data[\"n\"][\"ΔB-L\"].iloc[-1])"
   ]
  },
  {
   "cell_type": "code",
   "execution_count": null,
   "metadata": {},
   "outputs": [],
   "source": [
    "fig, ax = pyplot.subplots()\n",
    "ax.set_title(\"Integration Evolution\")\n",
    "ax.set_yscale(\"log\")\n",
    "data[\"n\"].plot(x=\"step\", y=\"beta\", ax=ax)\n",
    "\n",
    "pyplot.show()"
   ]
  },
  {
   "cell_type": "code",
   "execution_count": null,
   "metadata": {},
   "outputs": [],
   "source": [
    "fig, axs = pyplot.subplots(\n",
    "    nrows=2, sharex=True, figsize=[FIGSIZE, 2 * FIGSIZE / sp.constants.golden_ratio]\n",
    ")\n",
    "for ax in axs:\n",
    "    ax.set_xscale(XSCALE)\n",
    "\n",
    "## Asymmetries\n",
    "axs[0].set_title(\"asymmetries\")\n",
    "axs[0].set_yscale(\"log\")\n",
    "axs[0].set_ylim(bottom=1e-30)\n",
    "data[\"n\"].plot(\n",
    "    x=\"beta\", y=\"ΔB-L\", ax=axs[0], linewidth=3, color=\"black\", linestyle=\"solid\",\n",
    ")\n",
    "data[\"-n\"].plot(\n",
    "    x=\"beta\",\n",
    "    y=\"ΔB-L\",\n",
    "    ax=axs[0],\n",
    "    linewidth=3,\n",
    "    color=\"black\",\n",
    "    linestyle=\"dashed\",\n",
    "    legend=False,\n",
    ")\n",
    "data[\"n\"].plot(\n",
    "    x=\"beta\",\n",
    "    y=[\"ΔH\", \"ΔL1\", \"ΔN1\"],\n",
    "    ax=axs[0],\n",
    "    color=COLORS,\n",
    "    linestyle=\"solid\",\n",
    ")\n",
    "data[\"-n\"].plot(\n",
    "    x=\"beta\",\n",
    "    y=[\"ΔH\", \"ΔL1\", \"ΔN1\"],\n",
    "    ax=axs[0],\n",
    "    color=COLORS,\n",
    "    linestyle=\"dashed\",\n",
    "    legend=False,\n",
    ")\n",
    "\n",
    "\n",
    "## Number densities\n",
    "axs[1].set_title(\"Number Densities\")\n",
    "data[\"n\"].abs().plot(\n",
    "    x=\"beta\", y=[\"H\", \"L1\", \"N1\",], ax=axs[1], color=COLORS,\n",
    ")\n",
    "data[\"n\"].abs().plot(\n",
    "    x=\"beta\",\n",
    "    y=[\"(H)\", \"(L1)\", \"(N1)\"],\n",
    "    ax=axs[1],\n",
    "    color=COLORS,\n",
    "    linestyle=\"dotted\",\n",
    "    legend=False,\n",
    ")\n",
    "\n",
    "pyplot.show()"
   ]
  },
  {
   "cell_type": "markdown",
   "metadata": {},
   "source": [
    "## 3 Generation"
   ]
  },
  {
   "cell_type": "code",
   "execution_count": null,
   "metadata": {},
   "outputs": [],
   "source": [
    "data[\"n\"] = random_drop(pd.read_csv(OUTPUT_DIR / \"decay_washout\" / \"3gen\" / \"n.csv\"))\n",
    "data[\"n\"][\"ΔB-L\"] =(1/3) * data[\"n\"][\n",
    "    [\"ΔQ1\", \"ΔQ2\", \"ΔQ3\", \"Δu1\", \"Δu2\", \"Δu3\", \"Δd1\", \"Δd2\", \"Δd3\"]\n",
    "].sum(axis=1)\n",
    "data[\"n\"][\"ΔB-L\"] -= data[\"n\"][[\"ΔL1\", \"ΔL2\", \"ΔL3\", \"Δe1\", \"Δe2\", \"Δe3\"]].sum(axis=1)\n",
    "data[\"-n\"] = data[\"n\"].apply(\n",
    "    lambda c: c.apply(np.negative) if c.name not in [\"step\", \"beta\"] else c\n",
    ")\n",
    "XSCALE = \"log\" if data[\"n\"][\"beta\"].max() / data[\"n\"][\"beta\"].min() > 100 else \"linear\"\n",
    "\n",
    "gc.collect()\n",
    "\n",
    "print(\"Integration steps:\", len(data[\"n\"].index))\n",
    "print(\"Final B-L:\", data[\"n\"][\"ΔB-L\"].iloc[-1])"
   ]
  },
  {
   "cell_type": "code",
   "execution_count": null,
   "metadata": {},
   "outputs": [],
   "source": [
    "fig, ax = pyplot.subplots()\n",
    "ax.set_title(\"Integration Evolution\")\n",
    "ax.set_yscale(\"log\")\n",
    "data[\"n\"].plot(x=\"step\", y=\"beta\", ax=ax)\n",
    "\n",
    "pyplot.show()"
   ]
  },
  {
   "cell_type": "code",
   "execution_count": null,
   "metadata": {},
   "outputs": [],
   "source": [
    "fig, axs = pyplot.subplots(\n",
    "    nrows=2, sharex=True, figsize=[FIGSIZE, 2 * FIGSIZE / sp.constants.golden_ratio]\n",
    ")\n",
    "for ax in axs:\n",
    "    ax.set_xscale(XSCALE)\n",
    "\n",
    "## Asymmetries\n",
    "axs[0].set_title(\"asymmetries\")\n",
    "axs[0].set_yscale(\"log\")\n",
    "axs[0].set_ylim(bottom=1e-30)\n",
    "data[\"n\"].plot(\n",
    "    x=\"beta\", y=\"ΔB-L\", ax=axs[0], linewidth=3, color=\"black\", linestyle=\"solid\",\n",
    ")\n",
    "data[\"-n\"].plot(\n",
    "    x=\"beta\",\n",
    "    y=\"ΔB-L\",\n",
    "    ax=axs[0],\n",
    "    linewidth=3,\n",
    "    color=\"black\",\n",
    "    linestyle=\"dashed\",\n",
    "    legend=False,\n",
    ")\n",
    "data[\"n\"].plot(\n",
    "    x=\"beta\",\n",
    "    y=[\"ΔH\", \"ΔL1\", \"ΔL2\", \"ΔL3\", \"ΔN1\", \"ΔN2\", \"ΔN3\"],\n",
    "    ax=axs[0],\n",
    "    color=COLORS,\n",
    "    linestyle=\"solid\",\n",
    ")\n",
    "data[\"-n\"].plot(\n",
    "    x=\"beta\",\n",
    "    y=[\"ΔH\", \"ΔL1\", \"ΔL2\", \"ΔL3\", \"ΔN1\", \"ΔN2\", \"ΔN3\"],\n",
    "    ax=axs[0],\n",
    "    color=COLORS,\n",
    "    linestyle=\"dashed\",\n",
    "    legend=False,\n",
    ")\n",
    "\n",
    "\n",
    "## Number densities\n",
    "axs[1].set_title(\"Number Densities\")\n",
    "data[\"n\"].abs().plot(\n",
    "    x=\"beta\", y=[\"H\", \"L1\", \"L2\", \"L3\", \"N1\", \"N2\", \"N3\"], ax=axs[1], color=COLORS,\n",
    ")\n",
    "data[\"n\"].abs().plot(\n",
    "    x=\"beta\",\n",
    "    y=[\"(H)\", \"(L1)\", \"(L2)\", \"(L3)\", \"(N1)\", \"(N2)\", \"(N3)\"],\n",
    "    ax=axs[1],\n",
    "    color=COLORS,\n",
    "    linestyle=\"dotted\",\n",
    "    legend=False,\n",
    ")\n",
    "\n",
    "pyplot.show()"
   ]
  },
  {
   "cell_type": "markdown",
   "metadata": {},
   "source": [
    "# Gammas"
   ]
  },
  {
   "cell_type": "code",
   "execution_count": null,
   "metadata": {},
   "outputs": [],
   "source": [
    "files = sorted(glob.glob(str(OUTPUT_DIR / \"gamma\" / \"*.csv\")))\n",
    "\n",
    "data[\"gamma\"] = dict()\n",
    "for file in files:\n",
    "    name = file.split('/')[-1].split('.csv')[0]\n",
    "    data[\"gamma\"][name] = pd.read_csv(file)"
   ]
  },
  {
   "cell_type": "code",
   "execution_count": null,
   "metadata": {},
   "outputs": [],
   "source": [
    "for key in data[\"gamma\"].keys():\n",
    "    fig, ax = pyplot.subplots()\n",
    "    ax.set_xlabel(\"Inverse Temperature [GeV^{-1}]\")\n",
    "    ax.set_xscale(\"log\")\n",
    "    ax.set_ylabel(r\"$\\frac{\\gamma}{n_1 H \\beta}$\")\n",
    "    ax.set_yscale(\"log\")\n",
    "    \n",
    "#     if key == \"1\":\n",
    "#         ax.set_ylim(bottom=1e-10, top=1e0)\n",
    "        \n",
    "    data[\"gamma\"][key].plot(x=\"beta\", ax=ax)"
   ]
  },
  {
   "cell_type": "markdown",
   "metadata": {},
   "source": [
    "# Scan"
   ]
  },
  {
   "cell_type": "code",
   "execution_count": null,
   "metadata": {
    "tags": [
     "#load_scan"
    ]
   },
   "outputs": [],
   "source": [
    "data[\"scan\"] = pd.read_csv(OUTPUT_DIR / \"scan.csv\").sort_values(by=[\"y\", \"m\"])\n",
    "\n",
    "gc.collect()"
   ]
  },
  {
   "cell_type": "code",
   "execution_count": null,
   "metadata": {
    "tags": [
     "=>load_scan"
    ]
   },
   "outputs": [],
   "source": [
    "x = data[\"scan\"][\"y\"]\n",
    "y = data[\"scan\"][\"m\"]\n",
    "nx = x.unique().size\n",
    "ny = y.unique().size\n",
    "x = x.values.reshape(nx, ny)\n",
    "y = y.values.reshape(nx, ny)\n",
    "z = data[\"scan\"][\"B-L\"].abs().values.reshape(nx, ny)\n",
    "z = ma.masked_where(np.isnan(z), z)\n",
    "\n",
    "fig, ax = pyplot.subplots()\n",
    "\n",
    "ax.set_xlabel(\"$y_v$\")\n",
    "ax.set_xscale(\"log\")\n",
    "ax.set_ylabel(\"$N_1$ mass [GeV]\")\n",
    "ax.set_yscale(\"log\")\n",
    "cs = ax.contourf(x, y, z, locator=ticker.LogLocator())\n",
    "# cs = ax.contourf(x, y, z)\n",
    "# ax.plot(x, y, \"ko\", ms=3)\n",
    "cbar = fig.colorbar(cs, ticks=ticker.LogLocator())\n",
    "# cbar = fig.colorbar(cs)\n",
    "cbar.set_label(\"B-L\")\n",
    "\n",
    "pyplot.show()"
   ]
  },
  {
   "cell_type": "code",
   "execution_count": null,
   "metadata": {},
   "outputs": [],
   "source": []
  }
 ],
 "metadata": {
  "kernelspec": {
   "display_name": "Python 3",
   "language": "python",
   "name": "python3"
  },
  "language_info": {
   "codemirror_mode": {
    "name": "ipython",
    "version": 3
   },
   "file_extension": ".py",
   "mimetype": "text/x-python",
   "name": "python",
   "nbconvert_exporter": "python",
   "pygments_lexer": "ipython3"
  },
  "toc": {
   "base_numbering": 1,
   "nav_menu": {},
   "number_sections": true,
   "sideBar": true,
   "skip_h1_title": false,
   "title_cell": "Table of Contents",
   "title_sidebar": "Contents",
   "toc_cell": false,
   "toc_position": {
    "height": "calc(100% - 180px)",
    "left": "10px",
    "top": "150px",
    "width": "263.933px"
   },
   "toc_section_display": true,
   "toc_window_display": false
  }
 },
 "nbformat": 4,
 "nbformat_minor": 2
}
