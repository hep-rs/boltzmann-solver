{
 "cells": [
  {
   "cell_type": "code",
   "execution_count": null,
   "metadata": {
    "init_cell": true
   },
   "outputs": [],
   "source": [
    "import gc\n",
    "import glob\n",
    "import json\n",
    "import random\n",
    "from collections import defaultdict\n",
    "from pathlib import Path\n",
    "from tempfile import gettempdir\n",
    "\n",
    "import numpy as np\n",
    "import pandas as pd\n",
    "import plotly\n",
    "import plotly.graph_objects as go\n",
    "import scipy as sp\n",
    "import scipy.constants\n",
    "from IPython.core.display import HTML, display\n",
    "from jupyter_dash import JupyterDash\n",
    "from numpy import ma\n",
    "\n",
    "from common import *\n",
    "\n",
    "# Setup plotting\n",
    "JupyterDash.infer_jupyter_proxy_config()\n",
    "COLORS = plotly.colors.DEFAULT_PLOTLY_COLORS\n",
    "\n",
    "# Find the default output directory\n",
    "OUTPUT_DIR = Path(gettempdir()) / \"boltzmann_solver\" / \"leptogenesis\"\n",
    "if not OUTPUT_DIR.is_dir():\n",
    "    OUTPUT_DIR = Path(\"/media/ssh/uni-josh/tmp/josh/boltzmann_solver/leptogenesis\")"
   ]
  },
  {
   "cell_type": "markdown",
   "metadata": {},
   "source": [
    "# Decay Only"
   ]
  },
  {
   "cell_type": "markdown",
   "metadata": {},
   "source": [
    "## 1 Generation"
   ]
  },
  {
   "cell_type": "code",
   "execution_count": null,
   "metadata": {
    "tags": []
   },
   "outputs": [],
   "source": [
    "data = read_csv(OUTPUT_DIR / \"decay_only\" / \"1gen\" / \"n.csv\")\n",
    "\n",
    "print(\"Integration steps:\", len(data[\"n\"].index))\n",
    "print(\"Final B-L:\", data[\"n\"][\"ΔB-L\"].iloc[-1])\n",
    "plot_integration(data)"
   ]
  },
  {
   "cell_type": "code",
   "execution_count": null,
   "metadata": {
    "tags": [
     "=>load_n"
    ]
   },
   "outputs": [],
   "source": [
    "plot_asymmetry(data, [\"H\", \"L1\", \"N1\"])"
   ]
  },
  {
   "cell_type": "code",
   "execution_count": null,
   "metadata": {
    "tags": [
     "=>load_n"
    ]
   },
   "outputs": [],
   "source": [
    "plot_density(data, [\"H\", \"L1\", \"N1\"])"
   ]
  },
  {
   "cell_type": "markdown",
   "metadata": {},
   "source": [
    "## 3 Generations"
   ]
  },
  {
   "cell_type": "code",
   "execution_count": null,
   "metadata": {
    "tags": []
   },
   "outputs": [],
   "source": [
    "data = read_csv(OUTPUT_DIR / \"decay_only\" / \"3gen\" / \"n.csv\")\n",
    "\n",
    "print(\"Integration steps:\", len(data[\"n\"].index))\n",
    "print(\"Final B-L:\", data[\"n\"][\"ΔB-L\"].iloc[-1])\n",
    "plot_integration(data)"
   ]
  },
  {
   "cell_type": "code",
   "execution_count": null,
   "metadata": {
    "tags": [
     "=>load_n"
    ]
   },
   "outputs": [],
   "source": [
    "plot_asymmetry(data, [\"H\", \"L1\", \"L2\", \"L3\", \"N1\", \"N2\", \"N3\"])"
   ]
  },
  {
   "cell_type": "code",
   "execution_count": null,
   "metadata": {
    "tags": [
     "=>load_n"
    ]
   },
   "outputs": [],
   "source": [
    "plot_density(data, [\"H\", \"L1\", \"L2\", \"L3\", \"N1\", \"N2\", \"N3\"])"
   ]
  },
  {
   "cell_type": "markdown",
   "metadata": {},
   "source": [
    "# $\\Delta L = 2$ Only"
   ]
  },
  {
   "cell_type": "markdown",
   "metadata": {},
   "source": [
    "## 1 Generation"
   ]
  },
  {
   "cell_type": "code",
   "execution_count": null,
   "metadata": {
    "tags": []
   },
   "outputs": [],
   "source": [
    "data = read_csv(OUTPUT_DIR / \"decay_only\" / \"3gen\" / \"n.csv\")\n",
    "\n",
    "print(\"Integration steps:\", len(data[\"n\"].index))\n",
    "print(\"Final B-L:\", data[\"n\"][\"ΔB-L\"].iloc[-1])\n",
    "plot_integration(data)"
   ]
  },
  {
   "cell_type": "code",
   "execution_count": null,
   "metadata": {
    "tags": [
     "=>load_n"
    ]
   },
   "outputs": [],
   "source": [
    "plot_asymmetry(data, [\"H\", \"L1\", \"N1\"])"
   ]
  },
  {
   "cell_type": "code",
   "execution_count": null,
   "metadata": {
    "tags": [
     "=>load_n"
    ]
   },
   "outputs": [],
   "source": [
    "plot_density(data, [\"H\", \"L1\", \"N1\"])"
   ]
  },
  {
   "cell_type": "markdown",
   "metadata": {},
   "source": [
    "## 3 Generation"
   ]
  },
  {
   "cell_type": "code",
   "execution_count": null,
   "metadata": {
    "tags": []
   },
   "outputs": [],
   "source": [
    "data = read_csv(OUTPUT_DIR / \"washout_only\" / \"3gen\" / \"n.csv\")\n",
    "\n",
    "print(\"Integration steps:\", len(data[\"n\"].index))\n",
    "print(\"Final B-L:\", data[\"n\"][\"ΔB-L\"].iloc[-1])\n",
    "plot_integration(data)"
   ]
  },
  {
   "cell_type": "code",
   "execution_count": null,
   "metadata": {
    "tags": [
     "=>load_n"
    ]
   },
   "outputs": [],
   "source": [
    "plot_asymmetry(data, [\"H\", \"L1\", \"L2\", \"L3\", \"N1\", \"N2\", \"N3\"])"
   ]
  },
  {
   "cell_type": "code",
   "execution_count": null,
   "metadata": {
    "tags": [
     "=>load_n"
    ]
   },
   "outputs": [],
   "source": [
    "plot_density(data, [\"H\", \"L1\", \"L2\", \"L3\", \"N1\", \"N2\", \"N3\"])"
   ]
  },
  {
   "cell_type": "markdown",
   "metadata": {},
   "source": [
    "# Decay + $\\Delta L = 2$"
   ]
  },
  {
   "cell_type": "markdown",
   "metadata": {},
   "source": [
    "## 1 Generation"
   ]
  },
  {
   "cell_type": "code",
   "execution_count": null,
   "metadata": {
    "tags": []
   },
   "outputs": [],
   "source": [
    "data = read_csv(OUTPUT_DIR / \"decay_washout\" / \"1gen\" / \"n.csv\")\n",
    "\n",
    "print(\"Integration steps:\", len(data[\"n\"].index))\n",
    "print(\"Final B-L:\", data[\"n\"][\"ΔB-L\"].iloc[-1])\n",
    "plot_integration(data)"
   ]
  },
  {
   "cell_type": "code",
   "execution_count": null,
   "metadata": {},
   "outputs": [],
   "source": [
    "plot_asymmetry(data, [\"H\", \"L1\", \"N1\"])"
   ]
  },
  {
   "cell_type": "code",
   "execution_count": null,
   "metadata": {},
   "outputs": [],
   "source": [
    "plot_density(data, [\"H\", \"L1\", \"N1\"])"
   ]
  },
  {
   "cell_type": "markdown",
   "metadata": {},
   "source": [
    "## 3 Generation"
   ]
  },
  {
   "cell_type": "code",
   "execution_count": null,
   "metadata": {
    "tags": []
   },
   "outputs": [],
   "source": [
    "data = read_csv(OUTPUT_DIR / \"decay_washout\" / \"3gen\" / \"n.csv\")\n",
    "\n",
    "print(\"Integration steps:\", len(data[\"n\"].index))\n",
    "print(\"Final B-L:\", data[\"n\"][\"ΔB-L\"].iloc[-1])\n",
    "plot_integration(data)"
   ]
  },
  {
   "cell_type": "code",
   "execution_count": null,
   "metadata": {},
   "outputs": [],
   "source": [
    "plot_asymmetry(data, [\"H\", \"L1\", \"L2\", \"L3\", \"N1\", \"N2\", \"N3\"])"
   ]
  },
  {
   "cell_type": "code",
   "execution_count": null,
   "metadata": {},
   "outputs": [],
   "source": [
    "plot_density(data, [\"H\", \"L1\", \"L2\", \"L3\", \"N1\", \"N2\", \"N3\"])"
   ]
  },
  {
   "cell_type": "markdown",
   "metadata": {},
   "source": [
    "# Miscellaneous"
   ]
  },
  {
   "cell_type": "markdown",
   "metadata": {},
   "source": [
    "## Evolution"
   ]
  },
  {
   "cell_type": "code",
   "execution_count": null,
   "metadata": {},
   "outputs": [],
   "source": [
    "data, ptcls = read_evolution(OUTPUT_DIR / \"evolution.json\")"
   ]
  },
  {
   "cell_type": "code",
   "execution_count": null,
   "metadata": {},
   "outputs": [],
   "source": [
    "go.Figure(\n",
    "    data=[go.Scatter(name=p, x=data[\"beta\"], y=data[p, \"mass\"]) for p in ptcls],\n",
    "    layout=go.Layout(\n",
    "        xaxis=go.layout.XAxis(\n",
    "            title=\"Inverse Temperature [GeV⁻¹]\", type=\"log\", exponentformat=\"power\",\n",
    "        ),\n",
    "        yaxis=go.layout.YAxis(title=\"Mass [GeV]\", type=\"log\", exponentformat=\"power\"),\n",
    "    ),\n",
    ")"
   ]
  },
  {
   "cell_type": "code",
   "execution_count": null,
   "metadata": {},
   "outputs": [],
   "source": [
    "go.Figure(\n",
    "    data=[\n",
    "        go.Scatter(name=p, x=data[\"beta\"], y=data[p, \"mass\"] * data[\"beta\"])\n",
    "        for p in ptcls\n",
    "    ],\n",
    "    layout=go.Layout(\n",
    "        xaxis=go.layout.XAxis(\n",
    "            title=\"Inverse Temperature [GeV⁻¹]\", type=\"log\", exponentformat=\"power\",\n",
    "        ),\n",
    "        yaxis=go.layout.YAxis(\n",
    "            title=\"Mass / Temperatre\", type=\"log\", exponentformat=\"power\"\n",
    "        ),\n",
    "    ),\n",
    ")"
   ]
  },
  {
   "cell_type": "code",
   "execution_count": null,
   "metadata": {},
   "outputs": [],
   "source": [
    "go.Figure(\n",
    "    data=[\n",
    "        go.Scatter(name=p, x=data[\"beta\"], y=data[p, \"width\"] / data[p, \"mass\"])\n",
    "        for p in ptcls\n",
    "    ],\n",
    "    layout=go.Layout(\n",
    "        xaxis=go.layout.XAxis(\n",
    "            title=\"Inverse Temperature [GeV⁻¹]\", type=\"log\", exponentformat=\"power\",\n",
    "        ),\n",
    "        yaxis=go.layout.YAxis(title=\"Width / Mass\", type=\"log\", exponentformat=\"power\"),\n",
    "    ),\n",
    ")"
   ]
  },
  {
   "cell_type": "markdown",
   "metadata": {},
   "source": [
    "## Higgs Equilibrium"
   ]
  },
  {
   "cell_type": "code",
   "execution_count": null,
   "metadata": {},
   "outputs": [],
   "source": [
    "datas = list(\n",
    "    map(read_csv, sorted(glob.glob(str(OUTPUT_DIR / \"higgs_equilibrium\" / \"*.csv\"))))\n",
    ")"
   ]
  },
  {
   "cell_type": "code",
   "execution_count": null,
   "metadata": {
    "tags": [
     "=>load_n"
    ]
   },
   "outputs": [],
   "source": [
    "go.Figure(\n",
    "    data=[\n",
    "        go.Scatter(\n",
    "            x=data[\"n\"][\"beta\"],\n",
    "            y=data[\"n\"][\"H\"],\n",
    "            mode=\"lines\",\n",
    "            line=go.scatter.Line(color=cmap(\"viridis\", i / len(datas))),\n",
    "            showlegend=False,\n",
    "        )\n",
    "        for i, data in enumerate(datas)\n",
    "    ]\n",
    "    + [\n",
    "        go.Scatter(\n",
    "            x=data[\"n\"][\"beta\"],\n",
    "            y=data[\"n\"][\"(H)\"],\n",
    "            mode=\"lines\",\n",
    "            line=go.scatter.Line(color=\"black\"),\n",
    "            showlegend=False,\n",
    "        )\n",
    "        for i, data in enumerate(datas)\n",
    "    ],\n",
    "    layout=go.Layout(\n",
    "        xaxis=go.layout.XAxis(\n",
    "            title=\"Inverse Temperature [GeV⁻¹]\", type=\"log\", exponentformat=\"power\",\n",
    "        ),\n",
    "        yaxis=go.layout.YAxis(title=\"Width / Mass\", type=\"log\", exponentformat=\"power\"),\n",
    "    ),\n",
    ")"
   ]
  },
  {
   "cell_type": "markdown",
   "metadata": {},
   "source": [
    "## Lepton Equilibrium"
   ]
  },
  {
   "cell_type": "code",
   "execution_count": null,
   "metadata": {},
   "outputs": [],
   "source": [
    "datas = list(\n",
    "    map(read_csv, sorted(glob.glob(str(OUTPUT_DIR / \"lepton_equilibrium\" / \"*.csv\"))))\n",
    ")"
   ]
  },
  {
   "cell_type": "code",
   "execution_count": null,
   "metadata": {},
   "outputs": [],
   "source": [
    "go.Figure(\n",
    "    data=[\n",
    "        go.Scatter(\n",
    "            x=data[\"n\"][\"beta\"],\n",
    "            y=data[\"n\"][\"L1\"],\n",
    "            mode=\"lines\",\n",
    "            line=go.scatter.Line(color=cmap(\"viridis\", i / len(datas))),\n",
    "            showlegend=False,\n",
    "        )\n",
    "        for i, data in enumerate(datas)\n",
    "    ]\n",
    "    + [\n",
    "        go.Scatter(\n",
    "            x=data[\"n\"][\"beta\"],\n",
    "            y=data[\"n\"][\"(L1)\"],\n",
    "            mode=\"lines\",\n",
    "            line=go.scatter.Line(color=\"black\"),\n",
    "            showlegend=False,\n",
    "        )\n",
    "        for i, data in enumerate(datas)\n",
    "    ],\n",
    "    layout=go.Layout(\n",
    "        xaxis=go.layout.XAxis(\n",
    "            title=\"Inverse Temperature [GeV⁻¹]\", type=\"log\", exponentformat=\"power\",\n",
    "        ),\n",
    "        yaxis=go.layout.YAxis(title=\"Width / Mass\", type=\"log\", exponentformat=\"power\"),\n",
    "    ),\n",
    ")"
   ]
  },
  {
   "cell_type": "markdown",
   "metadata": {},
   "source": [
    "## Gammas"
   ]
  },
  {
   "cell_type": "code",
   "execution_count": null,
   "metadata": {},
   "outputs": [],
   "source": [
    "def standardize(s: str) -> str:\n",
    "    return \" \".join(sorted(s.replace(\"↔\", \"\").replace(\"\\u0304\", \"\").split()))\n",
    "\n",
    "data = dict()\n",
    "data[\"gamma-pre\"] = pd.read_csv(OUTPUT_DIR / \"gamma\" / \"gamma_pre.csv\")\n",
    "data[\"asymmetry-pre\"] = pd.read_csv(OUTPUT_DIR / \"gamma\" / \"asymmetry_pre.csv\")\n",
    "data[\"gamma-nopre\"] = pd.read_csv(OUTPUT_DIR / \"gamma\" / \"gamma_nopre.csv\")\n",
    "data[\"asymmetry-nopre\"] = pd.read_csv(OUTPUT_DIR / \"gamma\" / \"asymmetry_nopre.csv\")\n",
    "\n",
    "groups = data[\"gamma-pre\"].columns[1:].map(standardize).unique()"
   ]
  },
  {
   "cell_type": "code",
   "execution_count": null,
   "metadata": {},
   "outputs": [],
   "source": [
    "def new_fig():\n",
    "    return go.Figure(\n",
    "        layout=go.Layout(\n",
    "            xaxis=go.layout.XAxis(\n",
    "                title=\"Inverse Temperature\", type=\"log\", exponentformat=\"power\",\n",
    "            ),\n",
    "            yaxis=go.layout.YAxis(\n",
    "                title=\"Interaction Rate\",\n",
    "                type=\"log\",\n",
    "                exponentformat=\"power\",\n",
    "                range=[-20, 20],\n",
    "            ),\n",
    "        )\n",
    "    )\n",
    "\n",
    "fig = new_fig()\n",
    "n = 0\n",
    "group = groups[0]\n",
    "\n",
    "for column in data[\"gamma-pre\"].columns[1:]:\n",
    "    if group != standardize(column):\n",
    "        fig.add_shape(\n",
    "            type=\"rect\",\n",
    "            x0=1e-18, x1=1e-2,\n",
    "            y0=1e-1, y1=1e1,\n",
    "            fillcolor=\"Grey\",\n",
    "            line_color=\"Grey\",\n",
    "            opacity=0.2\n",
    "        )\n",
    "        fig.show()\n",
    "        \n",
    "        fig = new_fig()\n",
    "        n = 0\n",
    "        group = standardize(column)\n",
    "\n",
    "    fig.add_trace(\n",
    "        go.Scatter(\n",
    "            name=column,\n",
    "            x=data[\"gamma-pre\"][\"beta\"],\n",
    "            y=data[\"gamma-pre\"][column],\n",
    "            line=go.scatter.Line(\n",
    "                dash=\"solid\",\n",
    "                color=COLORS[n]\n",
    "            )\n",
    "        )\n",
    "    )\n",
    "    fig.add_trace(\n",
    "        go.Scatter(\n",
    "            name=column,\n",
    "            x=data[\"gamma-nopre\"][\"beta\"],\n",
    "            y=data[\"gamma-nopre\"][column],\n",
    "            line=go.scatter.Line(\n",
    "                dash=\"solid\",\n",
    "                color=COLORS[n]\n",
    "            )\n",
    "        )\n",
    "    )  \n",
    "    n += 1"
   ]
  },
  {
   "cell_type": "code",
   "execution_count": null,
   "metadata": {},
   "outputs": [],
   "source": [
    "def new_fig():\n",
    "    return go.Figure(\n",
    "        layout=go.Layout(\n",
    "            xaxis=go.layout.XAxis(\n",
    "                title=\"Inverse Temperature\", type=\"log\", exponentformat=\"power\",\n",
    "            ),\n",
    "            yaxis=go.layout.YAxis(\n",
    "                title=\"Interaction Rate\",\n",
    "                type=\"log\",\n",
    "                exponentformat=\"power\",\n",
    "                range=[-20, 20],\n",
    "            ),\n",
    "        )\n",
    "    )\n",
    "\n",
    "fig = new_fig()\n",
    "n = 0\n",
    "group = groups[0]\n",
    "\n",
    "for column in data[\"asymmetry-pre\"].columns[1:]:\n",
    "    if group != standardize(column):\n",
    "        fig.add_shape(\n",
    "            type=\"rect\",\n",
    "            x0=1e-18, x1=1e-2,\n",
    "            y0=1e-1, y1=1e1,\n",
    "            fillcolor=\"Grey\",\n",
    "            line_color=\"Grey\",\n",
    "            opacity=0.2\n",
    "        )\n",
    "        fig.show()\n",
    "        \n",
    "        fig = new_fig()\n",
    "        n = 0\n",
    "        group = standardize(column)\n",
    "\n",
    "    fig.add_trace(\n",
    "        go.Scatter(\n",
    "            name=column,\n",
    "            x=data[\"asymmetry-pre\"][\"beta\"],\n",
    "            y=data[\"asymmetry-pre\"][column],\n",
    "            line=go.scatter.Line(\n",
    "                dash=\"solid\",\n",
    "                color=COLORS[n]\n",
    "            )\n",
    "        )\n",
    "    )\n",
    "    fig.add_trace(\n",
    "        go.Scatter(\n",
    "            name=column,\n",
    "            x=data[\"asymmetry-nopre\"][\"beta\"],\n",
    "            y=data[\"asymmetry-nopre\"][column],\n",
    "            line=go.scatter.Line(\n",
    "                dash=\"solid\",\n",
    "                color=COLORS[n]\n",
    "            )\n",
    "        )\n",
    "    )  \n",
    "    n += 1"
   ]
  },
  {
   "cell_type": "code",
   "execution_count": null,
   "metadata": {},
   "outputs": [],
   "source": []
  }
 ],
 "metadata": {
  "kernelspec": {
   "display_name": "Python 3",
   "language": "python",
   "name": "python3"
  },
  "language_info": {
   "codemirror_mode": {
    "name": "ipython",
    "version": 3
   },
   "file_extension": ".py",
   "mimetype": "text/x-python",
   "name": "python",
   "nbconvert_exporter": "python",
   "pygments_lexer": "ipython3"
  },
  "toc": {
   "base_numbering": 1,
   "nav_menu": {},
   "number_sections": true,
   "sideBar": true,
   "skip_h1_title": false,
   "title_cell": "Table of Contents",
   "title_sidebar": "Contents",
   "toc_cell": false,
   "toc_position": {
    "height": "calc(100% - 180px)",
    "left": "10px",
    "top": "150px",
    "width": "263.933px"
   },
   "toc_section_display": true,
   "toc_window_display": true
  }
 },
 "nbformat": 4,
 "nbformat_minor": 4
}
