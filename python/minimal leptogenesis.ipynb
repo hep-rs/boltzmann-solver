{
 "cells": [
  {
   "cell_type": "code",
   "execution_count": null,
   "metadata": {},
   "outputs": [],
   "source": [
    "import matplotlib as mpl\n",
    "import matplotlib.pyplot as pyplot\n",
    "import pandas as pd\n",
    "import numpy as np\n",
    "\n",
    "# pyplot.style.use('ggplot')\n",
    "mpl.rcParams['axes.grid'] = True\n",
    "mpl.rcParams['grid.linewidth'] = 0.5\n",
    "mpl.rcParams['grid.alpha'] = 0.2\n",
    "mpl.rcParams['grid.color'] = '000000'\n",
    "%matplotlib inline"
   ]
  },
  {
   "cell_type": "markdown",
   "metadata": {},
   "source": [
    "# Number Density Solutions"
   ]
  },
  {
   "cell_type": "code",
   "execution_count": null,
   "metadata": {},
   "outputs": [],
   "source": [
    "data = pd.read_csv(\"/tmp/minimal_leptogenesis/n.csv\", dtype=np.float64)\n",
    "data = np.abs(data)\n",
    "\n",
    "fig, ax = pyplot.subplots()\n",
    "\n",
    "ax.set_xscale('log')\n",
    "ax.set_xlim(left=1e-14, right=1e-7)\n",
    "ax.set_yscale('log')\n",
    "ax.set_ylim(bottom=1e-10, top=2)\n",
    "\n",
    "for col in data.columns[1:]:\n",
    "    data.plot(x=\"beta\", y=col, ax=ax)"
   ]
  },
  {
   "cell_type": "markdown",
   "metadata": {},
   "source": [
    "# 1-to-2 Processes"
   ]
  },
  {
   "cell_type": "code",
   "execution_count": null,
   "metadata": {},
   "outputs": [],
   "source": [
    "data = pd.read_csv(\"/tmp/minimal_leptogenesis/decay.csv\", dtype=np.float64)\n",
    "data = np.abs(data)\n",
    "\n",
    "fig, ax = pyplot.subplots()\n",
    "\n",
    "ax.set_xscale('log')\n",
    "ax.set_xlim(left=1e-14, right=1e-7)\n",
    "ax.set_yscale('log')\n",
    "ax.set_ylim(bottom=1e0, top=1e10)\n",
    "\n",
    "for col in data.columns[1:]:\n",
    "    data.plot(x=\"beta\", y=col, ax=ax)"
   ]
  },
  {
   "cell_type": "markdown",
   "metadata": {},
   "source": [
    "# 2-to-2 Processes"
   ]
  },
  {
   "cell_type": "code",
   "execution_count": null,
   "metadata": {},
   "outputs": [],
   "source": [
    "data = pd.read_csv(\"/tmp/minimal_leptogenesis/scattering_NL.csv\", dtype=np.float64)\n",
    "data = np.abs(data)\n",
    "\n",
    "fig, ax = pyplot.subplots()\n",
    "\n",
    "ax.set_xscale('log')\n",
    "ax.set_xlim(left=1e-14, right=1e-7)\n",
    "ax.set_yscale('log')\n",
    "ax.set_ylim(bottom=1e-10, top=1e10)\n",
    "\n",
    "for col in data.columns[1:]:\n",
    "    data.plot(x=\"beta\", y=col, ax=ax)"
   ]
  },
  {
   "cell_type": "code",
   "execution_count": null,
   "metadata": {},
   "outputs": [],
   "source": [
    "data = pd.read_csv(\"/tmp/minimal_leptogenesis/scattering_NQ.csv\", dtype=np.float64)\n",
    "data = np.abs(data)\n",
    "\n",
    "fig, ax = pyplot.subplots()\n",
    "\n",
    "ax.set_xscale('log')\n",
    "ax.set_xlim(left=1e-14, right=1e-7)\n",
    "ax.set_yscale('log')\n",
    "ax.set_ylim(bottom=1e-10, top=1e10)\n",
    "\n",
    "for col in data.columns[1:]:\n",
    "    data.plot(x=\"beta\", y=col, ax=ax)"
   ]
  },
  {
   "cell_type": "code",
   "execution_count": null,
   "metadata": {},
   "outputs": [],
   "source": []
  }
 ],
 "metadata": {
  "kernelspec": {
   "display_name": "Python 3",
   "language": "python",
   "name": "python3"
  },
  "language_info": {
   "codemirror_mode": {
    "name": "ipython",
    "version": 3
   },
   "file_extension": ".py",
   "mimetype": "text/x-python",
   "name": "python",
   "nbconvert_exporter": "python",
   "pygments_lexer": "ipython3"
  }
 },
 "nbformat": 4,
 "nbformat_minor": 2
}
