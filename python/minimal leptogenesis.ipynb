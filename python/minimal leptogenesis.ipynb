{
 "cells": [
  {
   "cell_type": "code",
   "execution_count": null,
   "metadata": {},
   "outputs": [],
   "source": [
    "import matplotlib.pyplot as pyplot\n",
    "import pandas as pd\n",
    "import numpy as np\n",
    "\n",
    "pyplot.style.use('ggplot')\n",
    "%matplotlib notebook"
   ]
  },
  {
   "cell_type": "code",
   "execution_count": null,
   "metadata": {},
   "outputs": [],
   "source": [
    "data_n = pd.read_csv(\"/tmp/minimal_leptogenesis/n.csv\")\n",
    "data_n = np.abs(data_n)\n",
    "data_decay = pd.read_csv(\"/tmp/minimal_leptogenesis/decay.csv\")\n",
    "data_scattering = pd.read_csv(\"/tmp/minimal_leptogenesis/scattering.csv\")"
   ]
  },
  {
   "cell_type": "code",
   "execution_count": null,
   "metadata": {},
   "outputs": [],
   "source": [
    "display(data_n.columns)\n",
    "display(data_decay.columns)\n",
    "display(data_scattering.columns)"
   ]
  },
  {
   "cell_type": "code",
   "execution_count": null,
   "metadata": {},
   "outputs": [],
   "source": [
    "fig, ax = pyplot.subplots()\n",
    "\n",
    "ax.set_xscale('log')\n",
    "ax.set_xlim(1e-13, 1e-7)\n",
    "ax.set_yscale('log')\n",
    "ax.set_ylim(1e-10, 1)\n",
    "\n",
    "data_n.plot(x=\"beta\", y=\"B-L\", ax=ax)\n",
    "data_n.plot(x=\"beta\", y=\"N1\", ax=ax)\n",
    "data_n.plot(x=\"beta\", y=\"N2\", ax=ax)\n",
    "data_n.plot(x=\"beta\", y=\"N3\", ax=ax)\n",
    "\n",
    "# fig"
   ]
  },
  {
   "cell_type": "code",
   "execution_count": null,
   "metadata": {},
   "outputs": [],
   "source": []
  }
 ],
 "metadata": {
  "kernelspec": {
   "display_name": "Python 3",
   "language": "python",
   "name": "python3"
  },
  "language_info": {
   "codemirror_mode": {
    "name": "ipython",
    "version": 3
   },
   "file_extension": ".py",
   "mimetype": "text/x-python",
   "name": "python",
   "nbconvert_exporter": "python",
   "pygments_lexer": "ipython3"
  }
 },
 "nbformat": 4,
 "nbformat_minor": 2
}
