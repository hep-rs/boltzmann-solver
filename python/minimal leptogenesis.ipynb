{
 "cells": [
  {
   "cell_type": "code",
   "execution_count": null,
   "metadata": {},
   "outputs": [],
   "source": [
    "import gc\n",
    "\n",
    "import matplotlib as mpl\n",
    "import matplotlib.pyplot as pyplot\n",
    "import numpy as np\n",
    "import scipy as sp\n",
    "import scipy.constants\n",
    "import pandas as pd\n",
    "\n",
    "%matplotlib inline\n",
    "\n",
    "# pyplot.style.use('ggplot')\n",
    "mpl.rcParams['axes.grid'] = True\n",
    "mpl.rcParams['grid.linewidth'] = 0.5\n",
    "mpl.rcParams['grid.alpha'] = 0.2\n",
    "mpl.rcParams['grid.color'] = '000000'\n",
    "mpl.rcParams['figure.figsize'] = [10.0, 10.0 / sp.constants.golden]"
   ]
  },
  {
   "cell_type": "code",
   "execution_count": null,
   "metadata": {},
   "outputs": [],
   "source": [
    "from pathlib import Path\n",
    "\n",
    "OUTPUT_DIR = Path(\"/tmp/minimal_leptogenesis\");"
   ]
  },
  {
   "cell_type": "markdown",
   "metadata": {},
   "source": [
    "# Number Density Solutions"
   ]
  },
  {
   "cell_type": "code",
   "execution_count": null,
   "metadata": {},
   "outputs": [],
   "source": [
    "data_n = pd.read_csv(OUTPUT_DIR / \"n.csv\")\n",
    "XSCALE = 'log'\n",
    "\n",
    "gc.collect()"
   ]
  },
  {
   "cell_type": "code",
   "execution_count": null,
   "metadata": {},
   "outputs": [],
   "source": [
    "fig, ax = pyplot.subplots()\n",
    "# ax.set_xscale('log')\n",
    "ax.set_yscale('log')\n",
    "data_n.plot(x='step', y='beta', ax=ax)\n",
    "\n",
    "pyplot.show()"
   ]
  },
  {
   "cell_type": "code",
   "execution_count": null,
   "metadata": {},
   "outputs": [],
   "source": [
    "## B-L\n",
    "fig, ax = pyplot.subplots()\n",
    "ax.set_xscale(XSCALE)\n",
    "ax.set_yscale('log')\n",
    "data_n.abs().plot(x=\"beta\", y=data_n.columns[2:3], ax=ax)\n",
    "\n",
    "## Number density\n",
    "fig, ax = pyplot.subplots()\n",
    "ax.set_xscale(XSCALE)\n",
    "ax.set_yscale('linear')\n",
    "data_n.plot(x=\"beta\", y=data_n.columns[2::3], ax=ax)\n",
    "\n",
    "## Equilibrium Number Density\n",
    "fig, ax = pyplot.subplots()\n",
    "ax.set_xscale(XSCALE)\n",
    "ax.set_yscale('linear')\n",
    "data_n.plot(x=\"beta\", y=data_n.columns[3::3], ax=ax)\n",
    "# ax.set_ylim(bottom=1.0, top=1.7)\n",
    "\n",
    "## Change in Number Density\n",
    "fig, ax = pyplot.subplots()\n",
    "ax.set_xscale(XSCALE)\n",
    "ax.set_yscale('linear')\n",
    "data_n.plot(x=\"beta\", y=data_n.columns[4::3], ax=ax)\n",
    "\n",
    "pyplot.show()"
   ]
  },
  {
   "cell_type": "markdown",
   "metadata": {},
   "source": [
    "# 1-to-2 Processes"
   ]
  },
  {
   "cell_type": "code",
   "execution_count": null,
   "metadata": {},
   "outputs": [],
   "source": [
    "data = pd.read_csv(\"/tmp/minimal_leptogenesis/decay.csv\")\n",
    "\n",
    "gc.collect()"
   ]
  },
  {
   "cell_type": "code",
   "execution_count": null,
   "metadata": {},
   "outputs": [],
   "source": [
    "fig, ax = pyplot.subplots()\n",
    "\n",
    "ax.set_xscale('log')\n",
    "ax.set_yscale('log')\n",
    "\n",
    "for col in data.columns[2:]:\n",
    "    data.abs().plot(x=\"beta\", y=col, ax=ax)\n",
    "    \n",
    "ax.set_ylim(bottom=1e3, top=1e20)"
   ]
  },
  {
   "cell_type": "markdown",
   "metadata": {},
   "source": [
    "# 2-to-2 Processes"
   ]
  },
  {
   "cell_type": "code",
   "execution_count": null,
   "metadata": {},
   "outputs": [],
   "source": [
    "data = pd.read_csv(\"/tmp/minimal_leptogenesis/scattering_NLQq.csv\", dtype=np.float64)\n",
    "\n",
    "gc.collect()"
   ]
  },
  {
   "cell_type": "code",
   "execution_count": null,
   "metadata": {},
   "outputs": [],
   "source": [
    "fig, ax = pyplot.subplots()\n",
    "\n",
    "ax.set_xscale('log')\n",
    "ax.set_yscale('log')\n",
    "\n",
    "for col in data.columns[2:]:\n",
    "    data.abs().plot(x=\"beta\", y=col, ax=ax)\n",
    "    \n",
    "ax.set_ylim(bottom=1e-10, top=1e20)"
   ]
  },
  {
   "cell_type": "code",
   "execution_count": null,
   "metadata": {},
   "outputs": [],
   "source": []
  }
 ],
 "metadata": {
  "kernelspec": {
   "display_name": "Python 3",
   "language": "python",
   "name": "python3"
  },
  "language_info": {
   "codemirror_mode": {
    "name": "ipython",
    "version": 3
   },
   "file_extension": ".py",
   "mimetype": "text/x-python",
   "name": "python",
   "nbconvert_exporter": "python",
   "pygments_lexer": "ipython3"
  }
 },
 "nbformat": 4,
 "nbformat_minor": 2
}
