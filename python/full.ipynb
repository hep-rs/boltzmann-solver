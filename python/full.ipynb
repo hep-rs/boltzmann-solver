{
 "cells": [
  {
   "cell_type": "code",
   "execution_count": null,
   "metadata": {},
   "outputs": [],
   "source": [
    "import glob\n",
    "from pathlib import Path\n",
    "from tempfile import gettempdir\n",
    "\n",
    "from common import *\n",
    "\n",
    "NUM_N = 1\n",
    "NUM_F = 1\n",
    "SHOW_E = True\n",
    "SHOW_Q = True\n",
    "\n",
    "PARTICLES = [\"H\"]\n",
    "PARTICLES.extend([f\"N{i + 1}\" for i in range(NUM_N)])\n",
    "PARTICLES.extend([f\"L{i + 1}\" for i in range(NUM_F)])\n",
    "if SHOW_E:\n",
    "    PARTICLES.extend([f\"e{i + 1}\" for i in range(NUM_F)])\n",
    "if SHOW_Q:\n",
    "    PARTICLES.extend([f\"Q{i + 1}\" for i in range(NUM_F)])\n",
    "    PARTICLES.extend([f\"u{i + 1}\" for i in range(NUM_F)])\n",
    "    PARTICLES.extend([f\"d{i + 1}\" for i in range(NUM_F)])\n",
    "\n",
    "display(HTML(f\"<h1>{NUM_N} Neutrino, {NUM_F} Generations</h1>\"))\n",
    "\n",
    "# Find the default output directory\n",
    "OUTPUT_DIR = Path(gettempdir()) / \"boltzmann-solver\" / \"full\"\n",
    "display(HTML(f\"<span>Loading data from <code>{OUTPUT_DIR}</code></span>\"))\n"
   ]
  },
  {
   "cell_type": "markdown",
   "metadata": {},
   "source": [
    " ## Decay Only"
   ]
  },
  {
   "cell_type": "code",
   "execution_count": null,
   "metadata": {},
   "outputs": [],
   "source": [
    "data = read_number_density(OUTPUT_DIR / f\"decay_n{NUM_N}f{NUM_F}.csv\")\n",
    "\n",
    "display(plot_integration(data))\n",
    "display(plot_densities(data, PARTICLES))\n"
   ]
  },
  {
   "cell_type": "markdown",
   "metadata": {},
   "source": [
    " ## Washout"
   ]
  },
  {
   "cell_type": "code",
   "execution_count": null,
   "metadata": {},
   "outputs": [],
   "source": [
    "data = read_number_density(OUTPUT_DIR / f\"washout_n{NUM_N}f{NUM_F}.csv\")\n",
    "\n",
    "display(plot_integration(data))\n",
    "display(plot_densities(data, PARTICLES))\n"
   ]
  },
  {
   "cell_type": "markdown",
   "metadata": {},
   "source": [
    " ## Full"
   ]
  },
  {
   "cell_type": "code",
   "execution_count": null,
   "metadata": {},
   "outputs": [],
   "source": [
    "data = read_number_density(OUTPUT_DIR / f\"full_n{NUM_N}f{NUM_F}.csv\")\n",
    "\n",
    "display(plot_integration(data))\n",
    "display(plot_densities(data, PARTICLES))\n"
   ]
  },
  {
   "cell_type": "markdown",
   "metadata": {},
   "source": [
    " ## Miscellaneous"
   ]
  },
  {
   "cell_type": "markdown",
   "metadata": {},
   "source": [
    " ### Evolution"
   ]
  },
  {
   "cell_type": "code",
   "execution_count": null,
   "metadata": {},
   "outputs": [],
   "source": [
    "data, ptcls = read_evolution(OUTPUT_DIR / f\"evolution_n{NUM_N}f{NUM_F}.json\")\n",
    "\n",
    "display(\n",
    "    go.Figure(\n",
    "        data=[go.Scatter(name=p, x=data[\"beta\"], y=data[p, \"mass\"]) for p in ptcls],\n",
    "        layout=go.Layout(\n",
    "            xaxis=go.layout.XAxis(\n",
    "                title=\"Inverse Temperature [GeV⁻¹]\",\n",
    "                type=\"log\",\n",
    "                exponentformat=\"power\",\n",
    "            ),\n",
    "            yaxis=go.layout.YAxis(\n",
    "                title=\"Mass [GeV]\", type=\"log\", exponentformat=\"power\"\n",
    "            ),\n",
    "        ),\n",
    "    )\n",
    ")\n",
    "\n",
    "display(\n",
    "    go.Figure(\n",
    "        data=[\n",
    "            go.Scatter(name=p, x=data[\"beta\"], y=data[p, \"mass\"] * data[\"beta\"])\n",
    "            for p in ptcls\n",
    "        ],\n",
    "        layout=go.Layout(\n",
    "            xaxis=go.layout.XAxis(\n",
    "                title=\"Inverse Temperature [GeV⁻¹]\",\n",
    "                type=\"log\",\n",
    "                exponentformat=\"power\",\n",
    "            ),\n",
    "            yaxis=go.layout.YAxis(\n",
    "                title=\"Mass / Temperatre\", type=\"log\", exponentformat=\"power\"\n",
    "            ),\n",
    "        ),\n",
    "    )\n",
    ")\n",
    "\n",
    "display(\n",
    "    go.Figure(\n",
    "        data=[\n",
    "            go.Scatter(name=p, x=data[\"beta\"], y=data[p, \"width\"] / data[p, \"mass\"])\n",
    "            for p in ptcls\n",
    "        ],\n",
    "        layout=go.Layout(\n",
    "            xaxis=go.layout.XAxis(\n",
    "                title=\"Inverse Temperature [GeV⁻¹]\",\n",
    "                type=\"log\",\n",
    "                exponentformat=\"power\",\n",
    "            ),\n",
    "            yaxis=go.layout.YAxis(\n",
    "                title=\"Width / Mass\", type=\"log\", exponentformat=\"power\"\n",
    "            ),\n",
    "        ),\n",
    "    )\n",
    ")\n"
   ]
  },
  {
   "cell_type": "markdown",
   "metadata": {},
   "source": [
    " ### Higgs Equilibrium"
   ]
  },
  {
   "cell_type": "code",
   "execution_count": null,
   "metadata": {},
   "outputs": [],
   "source": [
    "data = list(\n",
    "    map(\n",
    "        lambda f: read_number_density(f, quiet=True),\n",
    "        sorted(glob.glob(str(OUTPUT_DIR / \"higgs_equilibrium\" / \"*.csv\"))),\n",
    "    )\n",
    ")\n",
    "\n",
    "go.Figure(\n",
    "    data=[\n",
    "        go.Scatter(\n",
    "            x=df[\"beta\"],\n",
    "            y=df[\"n-H\"],\n",
    "            mode=\"lines\",\n",
    "            line=go.scatter.Line(\n",
    "                color=plotly.colors.sample_colorscale(\"Viridis\", i / len(data))[0]\n",
    "            ),\n",
    "            showlegend=False,\n",
    "        )\n",
    "        for i, df in enumerate(data)\n",
    "    ]\n",
    "    + [\n",
    "        go.Scatter(\n",
    "            x=df[\"beta\"],\n",
    "            y=df[\"eq-H\"],\n",
    "            mode=\"lines\",\n",
    "            line=go.scatter.Line(color=\"black\"),\n",
    "            showlegend=False,\n",
    "        )\n",
    "        for i, df in enumerate(data)\n",
    "    ],\n",
    "    layout=go.Layout(\n",
    "        xaxis=go.layout.XAxis(\n",
    "            title=\"Inverse Temperature [GeV⁻¹]\",\n",
    "            type=\"log\",\n",
    "            exponentformat=\"power\",\n",
    "        ),\n",
    "        yaxis=go.layout.YAxis(\n",
    "            title=\"Normalized Number Density\", type=\"log\", exponentformat=\"power\"\n",
    "        ),\n",
    "        width=1000,\n",
    "    ),\n",
    ")\n"
   ]
  },
  {
   "cell_type": "markdown",
   "metadata": {},
   "source": [
    " ### Lepton Equilibrium"
   ]
  },
  {
   "cell_type": "code",
   "execution_count": null,
   "metadata": {},
   "outputs": [],
   "source": [
    "data = list(\n",
    "    map(\n",
    "        lambda f: read_number_density(f, quiet=True),\n",
    "        sorted(glob.glob(str(OUTPUT_DIR / \"lepton_equilibrium\" / \"*.csv\"))),\n",
    "    )\n",
    ")\n",
    "\n",
    "go.Figure(\n",
    "    data=[\n",
    "        go.Scatter(\n",
    "            x=df[\"beta\"],\n",
    "            y=df[\"n-L1\"],\n",
    "            mode=\"lines\",\n",
    "            line=go.scatter.Line(\n",
    "                color=plotly.colors.sample_colorscale(\"Viridis\", i / len(data))[0]\n",
    "            ),\n",
    "            showlegend=False,\n",
    "        )\n",
    "        for i, df in enumerate(data)\n",
    "    ]\n",
    "    + [\n",
    "        go.Scatter(\n",
    "            x=df[\"beta\"],\n",
    "            y=df[\"eq-L1\"],\n",
    "            mode=\"lines\",\n",
    "            line=go.scatter.Line(color=\"black\"),\n",
    "            showlegend=False,\n",
    "        )\n",
    "        for i, df in enumerate(data)\n",
    "    ],\n",
    "    layout=go.Layout(\n",
    "        xaxis=go.layout.XAxis(\n",
    "            title=\"Inverse Temperature [GeV⁻¹]\",\n",
    "            type=\"log\",\n",
    "            exponentformat=\"power\",\n",
    "        ),\n",
    "        yaxis=go.layout.YAxis(\n",
    "            title=\"Normalized Number Density\", type=\"log\", exponentformat=\"power\"\n",
    "        ),\n",
    "        width=1000,\n",
    "    ),\n",
    ")\n"
   ]
  },
  {
   "cell_type": "markdown",
   "metadata": {},
   "source": [
    " ### Gammas"
   ]
  },
  {
   "cell_type": "code",
   "execution_count": null,
   "metadata": {},
   "outputs": [],
   "source": [
    "data = pd.read_csv(OUTPUT_DIR / \"gamma.csv\")\n",
    "display(plot_gamma(data))\n"
   ]
  },
  {
   "cell_type": "code",
   "execution_count": null,
   "metadata": {},
   "outputs": [],
   "source": [
    "data = pd.read_csv(OUTPUT_DIR / \"asymmetry.csv\")\n",
    "display(plot_gamma(data))\n"
   ]
  },
  {
   "cell_type": "code",
   "execution_count": null,
   "metadata": {},
   "outputs": [],
   "source": []
  }
 ],
 "metadata": {
  "interpreter": {
   "hash": "3ea925e2a6f7ee167e58135a6918d3268d13820f934487d8399b291610bc3081"
  },
  "kernelspec": {
   "display_name": "Python 3.9.7 64-bit ('.venv': pipenv)",
   "name": "python3"
  },
  "language_info": {
   "codemirror_mode": {
    "name": "ipython",
    "version": 3
   },
   "file_extension": ".py",
   "mimetype": "text/x-python",
   "name": "python",
   "nbconvert_exporter": "python",
   "pygments_lexer": "ipython3"
  }
 },
 "nbformat": 4,
 "nbformat_minor": 2
}
