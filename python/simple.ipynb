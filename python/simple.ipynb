{
 "cells": [
  {
   "cell_type": "code",
   "execution_count": null,
   "metadata": {
    "init_cell": true
   },
   "outputs": [],
   "source": [
    "import gc\n",
    "import glob\n",
    "import json\n",
    "import random\n",
    "from collections import defaultdict\n",
    "from pathlib import Path\n",
    "from tempfile import gettempdir\n",
    "\n",
    "import numpy as np\n",
    "import pandas as pd\n",
    "import plotly\n",
    "from plotly import graph_objects as go\n",
    "import scipy as sp\n",
    "import scipy.constants\n",
    "from IPython.core.display import HTML, display\n",
    "from numpy import ma\n",
    "\n",
    "from common import *"
   ]
  },
  {
   "cell_type": "code",
   "execution_count": null,
   "metadata": {
    "init_cell": true
   },
   "outputs": [],
   "source": [
    "# Setup plotting\n",
    "\n",
    "COLORS = plotly.colors.DEFAULT_PLOTLY_COLORS"
   ]
  },
  {
   "cell_type": "code",
   "execution_count": null,
   "metadata": {
    "init_cell": true,
    "tags": []
   },
   "outputs": [],
   "source": [
    "# Find the default output directory\n",
    "OUTPUT_DIR = Path(gettempdir()) / \"boltzmann_solver\" / \"simple\"\n",
    "if not OUTPUT_DIR.is_dir():\n",
    "    OUTPUT_DIR = Path(\"/media/ssh/uni-josh/tmp/josh/boltzmann_solver/simple\")\n",
    "if not OUTPUT_DIR.is_dir():\n",
    "    OUTPUT_DIR = Path(\"/media/ssh/bakerlab11/tmp/jellis/boltzmann_solver/simple\")\n",
    "print(f\"Loading data from {OUTPUT_DIR}\")"
   ]
  },
  {
   "cell_type": "markdown",
   "metadata": {},
   "source": [
    "# N1F1"
   ]
  },
  {
   "cell_type": "code",
   "execution_count": null,
   "metadata": {
    "tags": []
   },
   "outputs": [],
   "source": [
    "data = read_csv(OUTPUT_DIR / \"n1f1.csv\")\n",
    "# ul = pd.read_csv(\"/tmp/josh/ulysses/n1f1.csv\")\n",
    "\n",
    "print(\"Integration steps:\", len(data[\"n\"].index))\n",
    "print(\"Final B-L:\", data[\"n\"][\"ΔB-L\"].iloc[-1])\n",
    "plot_integration(data)"
   ]
  },
  {
   "cell_type": "code",
   "execution_count": null,
   "metadata": {
    "tags": [
     "=>load_n"
    ]
   },
   "outputs": [],
   "source": [
    "fig = plot_asymmetry(data, [\"H\", \"L1\", \"N1\"])\n",
    "fig.update_yaxes(range=[-30, 0])\n",
    "fig.add_trace(go.Scatter(\n",
    "    x=ul[\"beta\"],\n",
    "    y=ul[\"BL\"].abs(),\n",
    "    name=\"[U] B-L\"\n",
    "))\n",
    "fig"
   ]
  },
  {
   "cell_type": "code",
   "execution_count": null,
   "metadata": {
    "tags": [
     "=>load_n"
    ]
   },
   "outputs": [],
   "source": [
    "fig = plot_density(data, [\"H\", \"L1\", \"N1\"])\n",
    "fig.add_trace(go.Scatter(\n",
    "    x=ul[\"beta\"],\n",
    "    y=ul[\"N1\"],\n",
    "    name=\"[U] N1\"\n",
    "))\n",
    "fig.add_trace(go.Scatter(\n",
    "    x=ul[\"beta\"],\n",
    "    y=ul[\"N1eq\"],\n",
    "    name=\"[U] N1eq\"\n",
    "))\n",
    "# fig.update_yaxes(type=\"log\", range=[-20,1])\n",
    "fig"
   ]
  },
  {
   "cell_type": "markdown",
   "metadata": {},
   "source": [
    "# N1F3"
   ]
  },
  {
   "cell_type": "code",
   "execution_count": null,
   "metadata": {
    "tags": []
   },
   "outputs": [],
   "source": [
    "data = read_csv(OUTPUT_DIR / \"n1f3.csv\")\n",
    "\n",
    "print(\"Integration steps:\", len(data[\"n\"].index))\n",
    "print(\"Final B-L:\", data[\"n\"][\"ΔB-L\"].iloc[-1])\n",
    "plot_integration(data)"
   ]
  },
  {
   "cell_type": "code",
   "execution_count": null,
   "metadata": {
    "tags": [
     "=>load_n"
    ]
   },
   "outputs": [],
   "source": [
    "plot_asymmetry(data, [\"H\", \"L1\", \"L2\", \"L3\", \"N1\"])"
   ]
  },
  {
   "cell_type": "code",
   "execution_count": null,
   "metadata": {
    "tags": [
     "=>load_n"
    ]
   },
   "outputs": [],
   "source": [
    "fig = plot_density(data, [\"N1\"])\n",
    "fig.update_yaxes(range=[0, 2])"
   ]
  },
  {
   "cell_type": "markdown",
   "metadata": {},
   "source": [
    "# N3F3"
   ]
  },
  {
   "cell_type": "code",
   "execution_count": null,
   "metadata": {
    "tags": []
   },
   "outputs": [],
   "source": [
    "data = read_csv(OUTPUT_DIR / \"n3f3.csv\")\n",
    "\n",
    "print(\"Integration steps:\", len(data[\"n\"].index))\n",
    "print(\"Final B-L:\", data[\"n\"][\"ΔB-L\"].iloc[-1])\n",
    "plot_integration(data)"
   ]
  },
  {
   "cell_type": "code",
   "execution_count": null,
   "metadata": {
    "tags": [
     "=>load_n"
    ]
   },
   "outputs": [],
   "source": [
    "plot_asymmetry(data, [\"H\", \"L1\", \"L2\", \"L3\", \"N1\", \"N2\", \"N3\"])"
   ]
  },
  {
   "cell_type": "code",
   "execution_count": null,
   "metadata": {
    "tags": [
     "=>load_n"
    ]
   },
   "outputs": [],
   "source": [
    "fig = plot_density(data, [\"N1\", \"N2\", \"N3\"])\n",
    "fig.update_yaxes(range=[0, 2])"
   ]
  },
  {
   "cell_type": "markdown",
   "metadata": {},
   "source": [
    "# Miscellaneous"
   ]
  },
  {
   "cell_type": "markdown",
   "metadata": {},
   "source": [
    "## Evolution"
   ]
  },
  {
   "cell_type": "code",
   "execution_count": null,
   "metadata": {},
   "outputs": [],
   "source": [
    "data, ptcls = read_evolution(OUTPUT_DIR / \"evolution.json\")"
   ]
  },
  {
   "cell_type": "code",
   "execution_count": null,
   "metadata": {},
   "outputs": [],
   "source": [
    "go.Figure(\n",
    "    data=[go.Scatter(name=p, x=data[\"beta\"], y=data[p, \"mass\"]) for p in ptcls],\n",
    "    layout=go.Layout(\n",
    "        xaxis=go.layout.XAxis(\n",
    "            title=\"Inverse Temperature [GeV⁻¹]\", type=\"log\", exponentformat=\"power\",\n",
    "        ),\n",
    "        yaxis=go.layout.YAxis(title=\"Mass [GeV]\", type=\"log\", exponentformat=\"power\"),\n",
    "    ),\n",
    ")"
   ]
  },
  {
   "cell_type": "code",
   "execution_count": null,
   "metadata": {},
   "outputs": [],
   "source": [
    "go.Figure(\n",
    "    data=[\n",
    "        go.Scatter(name=p, x=data[\"beta\"], y=data[p, \"mass\"] * data[\"beta\"])\n",
    "        for p in ptcls\n",
    "    ],\n",
    "    layout=go.Layout(\n",
    "        xaxis=go.layout.XAxis(\n",
    "            title=\"Inverse Temperature [GeV⁻¹]\", type=\"log\", exponentformat=\"power\",\n",
    "        ),\n",
    "        yaxis=go.layout.YAxis(\n",
    "            title=\"Mass / Temperatre\", type=\"log\", exponentformat=\"power\"\n",
    "        ),\n",
    "    ),\n",
    ")"
   ]
  },
  {
   "cell_type": "code",
   "execution_count": null,
   "metadata": {},
   "outputs": [],
   "source": [
    "go.Figure(\n",
    "    data=[\n",
    "        go.Scatter(name=p, x=data[\"beta\"], y=data[p, \"width\"] / data[p, \"mass\"])\n",
    "        for p in ptcls\n",
    "    ],\n",
    "    layout=go.Layout(\n",
    "        xaxis=go.layout.XAxis(\n",
    "            title=\"Inverse Temperature [GeV⁻¹]\", type=\"log\", exponentformat=\"power\",\n",
    "        ),\n",
    "        yaxis=go.layout.YAxis(title=\"Width / Mass\", type=\"linear\", exponentformat=\"power\"),\n",
    "    ),\n",
    ")"
   ]
  },
  {
   "cell_type": "markdown",
   "metadata": {},
   "source": [
    "## Gammas"
   ]
  },
  {
   "cell_type": "code",
   "execution_count": null,
   "metadata": {},
   "outputs": [],
   "source": [
    "data = dict()\n",
    "data[\"u\"] = pd.read_csv(\"/tmp/josh/ulysses/n1f1.csv\")\n",
    "data[\"b\"] = pd.read_csv(OUTPUT_DIR / \"gamma.csv\")\n",
    "go.Figure(\n",
    "    data=[\n",
    "        go.Scatter(name=\"[U] decay\", x=data[\"u\"][\"beta\"], y=data[\"u\"][\"d1\"]),\n",
    "        go.Scatter(name=\"[U] washout\", x=data[\"u\"][\"beta\"], y=data[\"u\"][\"w1\"]),\n",
    "        go.Scatter(name=\"[B] decay\", x=data[\"b\"][\"beta\"], y=data[\"b\"][\"N1 ↔ L1 H\"]),\n",
    "        go.Scatter(name=\"[B] washout\", x=data[\"b\"][\"beta\"], y=data[\"b\"][\"L1 ↔ N1\"]),\n",
    "    ],\n",
    "    layout=go.Layout(\n",
    "        xaxis=go.layout.XAxis(\n",
    "            title=\"Inverse Temperature [GeV⁻¹]\", type=\"log\", exponentformat=\"power\",\n",
    "        ),\n",
    "        yaxis=go.layout.YAxis(title=\"Interaction Rate\", type=\"log\", range=[-30, 15], exponentformat=\"power\"),\n",
    "    ),\n",
    ")"
   ]
  },
  {
   "cell_type": "code",
   "execution_count": null,
   "metadata": {},
   "outputs": [],
   "source": [
    "data = dict()\n",
    "data[\"u\"] = pd.read_csv(\"/tmp/josh/ulysses/n1f1.csv\")\n",
    "data[\"b\"] = pd.read_csv(OUTPUT_DIR / \"asymmetry.csv\")\n",
    "go.Figure(\n",
    "    data=[\n",
    "        go.Scatter(name=\"[U] decay\", x=data[\"u\"][\"beta\"], y=data[\"u\"][\"epsd1\"].abs()),\n",
    "        go.Scatter(name=\"[B] decay\", x=data[\"b\"][\"beta\"], y=data[\"b\"][\"N1 ↔ L1 H\"].abs()),\n",
    "    ],\n",
    "    layout=go.Layout(\n",
    "        xaxis=go.layout.XAxis(\n",
    "            title=\"Inverse Temperature [GeV⁻¹]\", type=\"log\", exponentformat=\"power\",\n",
    "        ),\n",
    "        yaxis=go.layout.YAxis(title=\"Interaction Rate\", type=\"log\", range=[-40, 5], exponentformat=\"power\"),\n",
    "    ),\n",
    ")"
   ]
  },
  {
   "cell_type": "code",
   "execution_count": null,
   "metadata": {},
   "outputs": [],
   "source": []
  }
 ],
 "metadata": {
  "kernelspec": {
   "display_name": "Python 3.8.5 64-bit ('boltzmann-solver': pipenv)",
   "language": "python",
   "name": "python_defaultSpec_1601894924622"
  },
  "language_info": {
   "codemirror_mode": {
    "name": "ipython",
    "version": 3
   },
   "file_extension": ".py",
   "mimetype": "text/x-python",
   "name": "python",
   "nbconvert_exporter": "python",
   "pygments_lexer": "ipython3"
  },
  "toc": {
   "base_numbering": 1,
   "nav_menu": {},
   "number_sections": true,
   "sideBar": true,
   "skip_h1_title": false,
   "title_cell": "Table of Contents",
   "title_sidebar": "Contents",
   "toc_cell": false,
   "toc_position": {
    "height": "calc(100% - 180px)",
    "left": "10px",
    "top": "150px",
    "width": "263.933px"
   },
   "toc_section_display": true,
   "toc_window_display": true
  }
 },
 "nbformat": 4,
 "nbformat_minor": 4
}
