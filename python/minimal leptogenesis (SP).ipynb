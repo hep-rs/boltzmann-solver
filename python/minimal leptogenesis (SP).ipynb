{
 "cells": [
  {
   "cell_type": "code",
   "execution_count": null,
   "metadata": {
    "init_cell": true
   },
   "outputs": [],
   "source": [
    "import gc\n",
    "import random\n",
    "from pathlib import Path\n",
    "from tempfile import gettempdir\n",
    "\n",
    "import matplotlib as mpl\n",
    "import matplotlib.pyplot as pyplot\n",
    "import numpy as np\n",
    "import pandas as pd\n",
    "import scipy as sp\n",
    "import scipy.constants\n",
    "from IPython.core.display import display\n",
    "from matplotlib import cm, ticker\n",
    "from numpy import ma"
   ]
  },
  {
   "cell_type": "code",
   "execution_count": null,
   "metadata": {
    "init_cell": true
   },
   "outputs": [],
   "source": [
    "## Adjust plot defaults\n",
    "mpl.rcParams[\"font.sans-serif\"] = [\"DejaVu Sans\", \"sans-serif\"]\n",
    "\n",
    "# Toggle on/off interactive notebooks\n",
    "if False:\n",
    "    %matplotlib notebook\n",
    "    FIGSIZE = 6\n",
    "else:\n",
    "    %matplotlib inline\n",
    "    FIGSIZE = 12\n",
    "    \n",
    "mpl.rcParams[\"figure.figsize\"] = [FIGSIZE, FIGSIZE / sp.constants.golden]"
   ]
  },
  {
   "cell_type": "code",
   "execution_count": null,
   "metadata": {
    "init_cell": true
   },
   "outputs": [],
   "source": [
    "def random_drop(df, count=100_000, inplace=False):\n",
    "    ratio = count / df.index.size\n",
    "    selector = list(filter(lambda _: random.random() > ratio, df.index))\n",
    "    return df.drop(selector, inplace=inplace)"
   ]
  },
  {
   "cell_type": "code",
   "execution_count": null,
   "metadata": {
    "init_cell": true
   },
   "outputs": [],
   "source": [
    "# OUTPUT_DIR = Path(gettempdir()) / \"leptogenesis\"\n",
    "OUTPUT_DIR = Path(\"../output/\") / \"leptogenesis\"\n",
    "data = dict()"
   ]
  },
  {
   "cell_type": "markdown",
   "metadata": {},
   "source": [
    "# Number Density Solutions"
   ]
  },
  {
   "cell_type": "code",
   "execution_count": null,
   "metadata": {
    "tags": [
     "#load_n"
    ]
   },
   "outputs": [],
   "source": [
    "data[\"n\"] = random_drop(pd.read_csv(OUTPUT_DIR / \"n.csv\"))\n",
    "# data[\"n\"] = random_drop(pd.read_csv(OUTPUT_DIR / \"n.csv\").query(\"1e-8 <= beta <= 1e-5\"))\n",
    "XSCALE = \"log\" if data[\"n\"][\"beta\"].max() / data[\"n\"][\"beta\"].min() > 100 else \"linear\"\n",
    "\n",
    "gc.collect()"
   ]
  },
  {
   "cell_type": "code",
   "execution_count": null,
   "metadata": {
    "tags": [
     "=>load_n"
    ]
   },
   "outputs": [],
   "source": [
    "fig, ax = pyplot.subplots()\n",
    "ax.set_title(\"Integration Evolution\")\n",
    "ax.set_yscale(\"log\")\n",
    "data[\"n\"].plot(x=\"step\", y=\"beta\", ax=ax)\n",
    "\n",
    "pyplot.show()"
   ]
  },
  {
   "cell_type": "code",
   "execution_count": null,
   "metadata": {
    "tags": [
     "=>load_n"
    ]
   },
   "outputs": [],
   "source": [
    "fig, axs = pyplot.subplots(\n",
    "    nrows=3, sharex=True, figsize=[FIGSIZE, 3 * FIGSIZE / sp.constants.golden_ratio]\n",
    ")\n",
    "for ax in axs:\n",
    "    ax.set_xscale(XSCALE)\n",
    "\n",
    "## B-L\n",
    "axs[0].set_title(\"B-L\")\n",
    "data[\"n\"].abs().plot(x=\"beta\", y=data[\"n\"].columns[2:3], ax=axs[0])\n",
    "axs[0].set_yscale(\"log\")\n",
    "axs[0].set_ylim(bottom=1e-20)\n",
    "\n",
    "## Number density\n",
    "axs[1].set_title(\"Number Densities\")\n",
    "data[\"n\"].plot(\n",
    "    x=\"beta\",\n",
    "    y=data[\"n\"].columns[5::3],\n",
    "    ax=axs[1],\n",
    "    color=mpl.rcParams[\"axes.prop_cycle\"].by_key()[\"color\"],\n",
    ")\n",
    "data[\"n\"].plot(\n",
    "    x=\"beta\",\n",
    "    y=data[\"n\"].columns[6::3],\n",
    "    ax=axs[1],\n",
    "    color=mpl.rcParams[\"axes.prop_cycle\"].by_key()[\"color\"],\n",
    "    linestyle=\"dashed\",\n",
    ")\n",
    "axs[1].set_ylim(bottom=-0.5, top=5)\n",
    "# axs[1].set_yscale(\"log\")\n",
    "# axs[1].set_ylim(bottom=1e-20)\n",
    "\n",
    "## Change in Number Density\n",
    "axs[2].set_title(\"Change in Number Densities\")\n",
    "data[\"n\"].plot(\n",
    "    x=\"beta\", \n",
    "    y=data[\"n\"].columns[7::3], \n",
    "    ax=axs[2],\n",
    "    color=mpl.rcParams[\"axes.prop_cycle\"].by_key()[\"color\"],\n",
    ")\n",
    "data[\"n\"].apply(lambda c: c.apply(np.negative) if c.name not in [\"step\", \"beta\"] else c).plot(\n",
    "    x=\"beta\", \n",
    "    y=data[\"n\"].columns[7::3], \n",
    "    ax=axs[2],\n",
    "    color=mpl.rcParams[\"axes.prop_cycle\"].by_key()[\"color\"],\n",
    "    linestyle=\"dashed\",\n",
    ")\n",
    "axs[2].set_yscale(\"log\")\n",
    "axs[2].set_ylim(bottom=1e-20)\n",
    "\n",
    "pyplot.show()"
   ]
  },
  {
   "cell_type": "markdown",
   "metadata": {},
   "source": [
    "# Interactions"
   ]
  },
  {
   "cell_type": "markdown",
   "metadata": {},
   "source": [
    "## $H \\leftrightarrow -L_{i_2} N_{i_3}$"
   ]
  },
  {
   "cell_type": "code",
   "execution_count": null,
   "metadata": {
    "tags": [
     "#load_HLN",
     "=>load_n"
    ]
   },
   "outputs": [],
   "source": [
    "data[\"HLN\"] = random_drop(\n",
    "    pd.read_csv(OUTPUT_DIR / \"n_el_h.csv\")\n",
    "    .query(\"{} <= beta <= {}\".format(data[\"n\"][\"beta\"].min(), data[\"n\"][\"beta\"].max()))\n",
    "    .sort_values(by=[\"beta\", \"step\"])\n",
    ")\n",
    "\n",
    "gc.collect()"
   ]
  },
  {
   "cell_type": "code",
   "execution_count": null,
   "metadata": {
    "tags": [
     "=>load_HLN"
    ]
   },
   "outputs": [],
   "source": [
    "fig, ax = pyplot.subplots(\n",
    "    nrows=5, sharex=True, figsize=[FIGSIZE, 5 * FIGSIZE / sp.constants.golden_ratio]\n",
    ")\n",
    "\n",
    "for offset, title in enumerate(\n",
    "    [\"Decaying Particle Index\", \"Gamma\", \"Decay\", \"Inverse Decay\", \"Net Decay\"]\n",
    "):\n",
    "    ax[offset].set_title(title)\n",
    "    ax[offset].set_xscale(XSCALE)\n",
    "    if title in [\"Gamma\", \"Net Decay\"]:\n",
    "        ax[offset].set_yscale(\"log\")\n",
    "        data[\"HLN\"].abs().plot(\n",
    "            x=\"beta\", y=data[\"HLN\"].columns[2 + offset :: 3], ax=ax[offset]\n",
    "        )\n",
    "    else:\n",
    "        # ax.set_yscale(\"symlog\")\n",
    "        data[\"HLN\"].plot(\n",
    "            x=\"beta\", y=data[\"HLN\"].columns[2 + offset :: 3], ax=ax[offset]\n",
    "        )\n",
    "\n",
    "pyplot.show()"
   ]
  },
  {
   "cell_type": "markdown",
   "metadata": {},
   "source": [
    "# Scan"
   ]
  },
  {
   "cell_type": "code",
   "execution_count": null,
   "metadata": {
    "tags": [
     "#load_scan"
    ]
   },
   "outputs": [],
   "source": [
    "data[\"scan\"] = pd.read_csv(OUTPUT_DIR / \"scan.csv\").sort_values(by=[\"y\", \"m\"])\n",
    "\n",
    "gc.collect()"
   ]
  },
  {
   "cell_type": "code",
   "execution_count": null,
   "metadata": {
    "tags": [
     "=>load_scan"
    ]
   },
   "outputs": [],
   "source": [
    "x = data[\"scan\"][\"y\"].unique()\n",
    "y = data[\"scan\"][\"m\"].unique()\n",
    "z = data[\"scan\"][\"B-L\"].abs().values.reshape(x.size, y.size)\n",
    "# z = ma.masked_where(np.isnan(z), z)\n",
    "\n",
    "fig, ax = pyplot.subplots()\n",
    "\n",
    "ax.set_xlabel(\"$y_v$\")\n",
    "ax.set_xscale(\"log\")\n",
    "ax.set_ylabel(\"$N_1$ mass [GeV]\")\n",
    "ax.set_yscale(\"log\")\n",
    "# cs = ax.contourf(x, y, z, locator=ticker.LogLocator(subs=None))\n",
    "cs = ax.contourf(x, y, z)\n",
    "ax.plot(data[\"scan\"][\"y\"], data[\"scan\"][\"m\"], \"ko\", ms=3)\n",
    "cbar = fig.colorbar(cs, ticks=ticker.LogLocator())\n",
    "cbar.set_label(\"B-L\")\n",
    "\n",
    "pyplot.show()"
   ]
  },
  {
   "cell_type": "code",
   "execution_count": null,
   "metadata": {},
   "outputs": [],
   "source": []
  }
 ],
 "metadata": {
  "kernelspec": {
   "display_name": "Python 3",
   "language": "python",
   "name": "python3"
  },
  "language_info": {
   "codemirror_mode": {
    "name": "ipython",
    "version": 3
   },
   "file_extension": ".py",
   "mimetype": "text/x-python",
   "name": "python",
   "nbconvert_exporter": "python",
   "pygments_lexer": "ipython3"
  },
  "toc": {
   "base_numbering": 1,
   "nav_menu": {},
   "number_sections": true,
   "sideBar": true,
   "skip_h1_title": false,
   "title_cell": "Table of Contents",
   "title_sidebar": "Contents",
   "toc_cell": false,
   "toc_position": {
    "height": "calc(100% - 180px)",
    "left": "10px",
    "top": "150px",
    "width": "263.933px"
   },
   "toc_section_display": true,
   "toc_window_display": false
  }
 },
 "nbformat": 4,
 "nbformat_minor": 2
}
