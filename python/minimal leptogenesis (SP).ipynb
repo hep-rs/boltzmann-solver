{
 "cells": [
  {
   "cell_type": "code",
   "execution_count": null,
   "metadata": {
    "init_cell": true
   },
   "outputs": [],
   "source": [
    "import gc\n",
    "from pathlib import Path\n",
    "\n",
    "import matplotlib as mpl\n",
    "import matplotlib.pyplot as pyplot\n",
    "import numpy as np\n",
    "import pandas as pd\n",
    "import scipy as sp\n",
    "import scipy.constants\n",
    "from matplotlib import cm, ticker\n",
    "from numpy import ma"
   ]
  },
  {
   "cell_type": "code",
   "execution_count": null,
   "metadata": {
    "init_cell": true
   },
   "outputs": [],
   "source": [
    "%matplotlib inline\n",
    "\n",
    "pyplot.style.use(['dark_background'])\n",
    "mpl.rcParams[\"axes.grid\"] = True\n",
    "mpl.rcParams[\"grid.linewidth\"] = 0.5\n",
    "mpl.rcParams[\"grid.alpha\"] = 0.5\n",
    "mpl.rcParams[\"grid.color\"] = \"FFFFFF\"\n",
    "mpl.rcParams[\"figure.figsize\"] = [10.0, 10.0 / sp.constants.golden]"
   ]
  },
  {
   "cell_type": "code",
   "execution_count": null,
   "metadata": {
    "init_cell": true
   },
   "outputs": [],
   "source": [
    "OUTPUT_DIR = Path(\"/tmp/leptogenesis_sp\")"
   ]
  },
  {
   "cell_type": "markdown",
   "metadata": {},
   "source": [
    "# Number Density Solutions"
   ]
  },
  {
   "cell_type": "code",
   "execution_count": null,
   "metadata": {
    "tags": [
     "#load_n"
    ]
   },
   "outputs": [],
   "source": [
    "data_n = pd.read_csv(OUTPUT_DIR / \"n.csv\")\n",
    "XSCALE = \"log\"\n",
    "\n",
    "gc.collect()"
   ]
  },
  {
   "cell_type": "code",
   "execution_count": null,
   "metadata": {
    "tags": [
     "=>load_n"
    ]
   },
   "outputs": [],
   "source": [
    "fig, ax = pyplot.subplots()\n",
    "# ax.set_xscale('log')\n",
    "ax.set_yscale(\"log\")\n",
    "data_n.plot(x=\"step\", y=\"beta\", ax=ax)\n",
    "\n",
    "pyplot.show()"
   ]
  },
  {
   "cell_type": "code",
   "execution_count": null,
   "metadata": {
    "tags": [
     "load_n"
    ]
   },
   "outputs": [],
   "source": [
    "## B-L\n",
    "fig, ax = pyplot.subplots()\n",
    "ax.set_xscale(XSCALE)\n",
    "ax.set_yscale(\"log\")\n",
    "data_n.abs().plot(x=\"beta\", y=data_n.columns[2:3], ax=ax)\n",
    "ax.set_ylim(bottom=1e-20)\n",
    "\n",
    "## Number density\n",
    "fig, ax = pyplot.subplots()\n",
    "ax.set_xscale(XSCALE)\n",
    "ax.set_yscale(\"log\")\n",
    "data_n.plot(x=\"beta\", y=data_n.columns[2::3], ax=ax)\n",
    "ax.set_ylim(bottom=1e-10, top=1e10)\n",
    "\n",
    "## Equilibrium Number Density\n",
    "fig, ax = pyplot.subplots()\n",
    "ax.set_xscale(XSCALE)\n",
    "ax.set_yscale(\"linear\")\n",
    "data_n.plot(x=\"beta\", y=data_n.columns[3::3], ax=ax)\n",
    "\n",
    "## Change in Number Density\n",
    "fig, ax = pyplot.subplots()\n",
    "ax.set_xscale(XSCALE)\n",
    "ax.set_yscale(\"log\")\n",
    "data_n.abs().plot(x=\"beta\", y=data_n.columns[4::3], ax=ax)\n",
    "ax.set_ylim(bottom=1e-20)\n",
    "\n",
    "pyplot.show()"
   ]
  },
  {
   "cell_type": "code",
   "execution_count": null,
   "metadata": {
    "tags": [
     "=>load_n"
    ]
   },
   "outputs": [],
   "source": [
    "df = data_n.iloc[:,[0,1,10]]\n",
    "df[df.iloc[:,2].abs() > 1e-3]"
   ]
  },
  {
   "cell_type": "markdown",
   "metadata": {},
   "source": [
    "# Interactions"
   ]
  },
  {
   "cell_type": "markdown",
   "metadata": {},
   "source": [
    "## 1-to-2 Processes"
   ]
  },
  {
   "cell_type": "code",
   "execution_count": null,
   "metadata": {},
   "outputs": [],
   "source": [
    "data = pd.read_csv(OUTPUT_DIR / \"decay.csv\")\n",
    "\n",
    "gc.collect()"
   ]
  },
  {
   "cell_type": "code",
   "execution_count": null,
   "metadata": {},
   "outputs": [],
   "source": [
    "fig, ax = pyplot.subplots()\n",
    "\n",
    "ax.set_xscale(\"log\")\n",
    "ax.set_yscale(\"log\")\n",
    "\n",
    "data.abs().plot(x=\"beta\", y=data.columns[2:], ax=ax)\n",
    "\n",
    "ax.set_ylim(bottom=1e-20)\n",
    "ax.set_xlim(left=1e-13, right=1e-7)"
   ]
  },
  {
   "cell_type": "markdown",
   "metadata": {},
   "source": [
    "## 2-to-2 Processes"
   ]
  },
  {
   "cell_type": "code",
   "execution_count": null,
   "metadata": {},
   "outputs": [],
   "source": [
    "data = pd.read_csv(OUTPUT_DIR / \"scattering_NLQq.csv\")\n",
    "\n",
    "gc.collect()"
   ]
  },
  {
   "cell_type": "code",
   "execution_count": null,
   "metadata": {},
   "outputs": [],
   "source": [
    "fig, ax = pyplot.subplots()\n",
    "\n",
    "ax.set_xscale(\"log\")\n",
    "ax.set_yscale(\"log\")\n",
    "\n",
    "data.abs().plot(x=\"beta\", y=data.columns[2:], ax=ax)\n",
    "\n",
    "ax.set_ylim(bottom=1e-10, top=1e20)\n",
    "ax.set_xlim(left=1e-13, right=1e-7)"
   ]
  },
  {
   "cell_type": "markdown",
   "metadata": {},
   "source": [
    "# Scan"
   ]
  },
  {
   "cell_type": "code",
   "execution_count": null,
   "metadata": {},
   "outputs": [],
   "source": [
    "data = pd.read_csv(OUTPUT_DIR / \"scan.csv\")\n",
    "data.sort_values(by=[\"y\", \"m\"], inplace=True)\n",
    "\n",
    "gc.collect()"
   ]
  },
  {
   "cell_type": "code",
   "execution_count": null,
   "metadata": {},
   "outputs": [],
   "source": [
    "fig, ax = pyplot.subplots()\n",
    "\n",
    "x = data[\"y\"].unique()\n",
    "y = data[\"m\"].unique()\n",
    "z = data[\"B-L\"].values.reshape(x.size, y.size)\n",
    "z = ma.masked_where(z <= 0, z)\n",
    "\n",
    "ax.set_xlabel(\"$y_v$\")\n",
    "ax.set_xscale(\"log\")\n",
    "ax.set_ylabel(\"$N_1$ mass [GeV]\")\n",
    "ax.set_yscale(\"log\")\n",
    "cs = ax.contourf(x, y, z, locator=ticker.LogLocator())\n",
    "cbar = fig.colorbar(cs)\n",
    "cbar.set_label(\"B-L\")\n",
    "\n",
    "pyplot.show()"
   ]
  }
 ],
 "metadata": {
  "kernelspec": {
   "display_name": "Python 3",
   "language": "python",
   "name": "python3"
  },
  "language_info": {
   "codemirror_mode": {
    "name": "ipython",
    "version": 3
   },
   "file_extension": ".py",
   "mimetype": "text/x-python",
   "name": "python",
   "nbconvert_exporter": "python",
   "pygments_lexer": "ipython3"
  },
  "toc": {
   "base_numbering": 1,
   "nav_menu": {},
   "number_sections": true,
   "sideBar": true,
   "skip_h1_title": false,
   "title_cell": "Table of Contents",
   "title_sidebar": "Contents",
   "toc_cell": false,
   "toc_position": {},
   "toc_section_display": true,
   "toc_window_display": true
  }
 },
 "nbformat": 4,
 "nbformat_minor": 2
}
