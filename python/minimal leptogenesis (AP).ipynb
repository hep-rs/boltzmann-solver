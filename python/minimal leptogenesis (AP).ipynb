{
 "cells": [
  {
   "cell_type": "code",
   "execution_count": null,
   "metadata": {
    "init_cell": true
   },
   "outputs": [],
   "source": [
    "import gc\n",
    "from pathlib import Path\n",
    "from tempfile import gettempdir\n",
    "\n",
    "import matplotlib as mpl\n",
    "import matplotlib.pyplot as pyplot\n",
    "import numpy as np\n",
    "import pandas as pd\n",
    "import scipy as sp\n",
    "import scipy.constants\n",
    "from IPython.core.display import display\n",
    "from matplotlib import cm, ticker\n",
    "from numpy import ma"
   ]
  },
  {
   "cell_type": "code",
   "execution_count": null,
   "metadata": {
    "init_cell": true
   },
   "outputs": [],
   "source": [
    "## Adjust plot defaults\n",
    "\n",
    "mpl.rcParams[\"font.sans-serif\"] = [\"DejaVu Sans\", \"sans-serif\"]\n",
    "\n",
    "# Toggle on/off interactive notebooks\n",
    "if False:\n",
    "    %matplotlib notebook\n",
    "    mpl.rcParams[\"figure.figsize\"] = [6, 6 / sp.constants.golden]\n",
    "else:\n",
    "    %matplotlib inline\n",
    "    mpl.rcParams[\"figure.figsize\"] = [12, 12 / sp.constants.golden]"
   ]
  },
  {
   "cell_type": "code",
   "execution_count": null,
   "metadata": {
    "init_cell": true
   },
   "outputs": [],
   "source": [
    "OUTPUT_DIR = Path(gettempdir()) / \"leptogenesis\" / \"ap\"\n",
    "data = dict()"
   ]
  },
  {
   "cell_type": "markdown",
   "metadata": {},
   "source": [
    "# Number Density Solutions"
   ]
  },
  {
   "cell_type": "code",
   "execution_count": null,
   "metadata": {
    "tags": [
     "#load_n"
    ]
   },
   "outputs": [],
   "source": [
    "data[\"n\"] = pd.read_csv(OUTPUT_DIR / \"n.csv\", dtype=np.float64)\n",
    "XSCALE = \"log\"\n",
    "\n",
    "gc.collect()"
   ]
  },
  {
   "cell_type": "code",
   "execution_count": null,
   "metadata": {
    "tags": [
     "=>load_n"
    ]
   },
   "outputs": [],
   "source": [
    "fig, ax = pyplot.subplots()\n",
    "ax.set_title(\"Integration Evolution\")\n",
    "ax.set_yscale(\"log\")\n",
    "data[\"n\"].plot(x=\"step\", y=\"beta\", ax=ax)\n",
    "\n",
    "pyplot.show()"
   ]
  },
  {
   "cell_type": "code",
   "execution_count": null,
   "metadata": {
    "tags": [
     "=>load_n"
    ]
   },
   "outputs": [],
   "source": [
    "## B-L\n",
    "fig, ax = pyplot.subplots()\n",
    "ax.set_title(\"B-L\")\n",
    "ax.set_xscale(XSCALE)\n",
    "ax.set_yscale(\"log\")\n",
    "data[\"n\"].abs().plot(x=\"beta\", y=data[\"n\"].columns[2:3], ax=ax)\n",
    "ax.set_ylim(bottom=1e-20)\n",
    "\n",
    "## Number density\n",
    "fig, ax = pyplot.subplots()\n",
    "ax.set_title(\"Number Densities\")\n",
    "ax.set_xscale(XSCALE)\n",
    "ax.set_yscale(\"linear\")\n",
    "data[\"n\"].plot(x=\"beta\", y=data[\"n\"].columns[2::3], ax=ax)\n",
    "\n",
    "## Equilibrium Number Density\n",
    "fig, ax = pyplot.subplots()\n",
    "ax.set_title(\"Equilibrium Number Densities\")\n",
    "ax.set_xscale(XSCALE)\n",
    "ax.set_yscale(\"linear\")\n",
    "data[\"n\"].plot(x=\"beta\", y=data[\"n\"].columns[3::3], ax=ax)\n",
    "\n",
    "## Change in Number Density\n",
    "fig, ax = pyplot.subplots()\n",
    "ax.set_title(\"Change in Number Densities\")\n",
    "ax.set_xscale(XSCALE)\n",
    "ax.set_yscale(\"log\")\n",
    "data[\"n\"].abs().plot(x=\"beta\", y=data[\"n\"].columns[4::3], ax=ax)\n",
    "ax.set_ylim(bottom=1e-20)\n",
    "\n",
    "pyplot.show()"
   ]
  },
  {
   "cell_type": "markdown",
   "metadata": {},
   "source": [
    "# Interactions"
   ]
  },
  {
   "cell_type": "markdown",
   "metadata": {},
   "source": [
    "## $H \\leftrightarrow -L_{i_2} N_{i_3}$"
   ]
  },
  {
   "cell_type": "code",
   "execution_count": null,
   "metadata": {
    "tags": [
     "#load_HLN",
     "=>load_n"
    ]
   },
   "outputs": [],
   "source": [
    "data[\"HLN\"] = pd.read_csv(OUTPUT_DIR / \"n_el_h.csv\").sort_values(by=[\"beta\", \"step\"])\n",
    "\n",
    "gc.collect()"
   ]
  },
  {
   "cell_type": "code",
   "execution_count": null,
   "metadata": {
    "tags": [
     "=>load_HLN"
    ]
   },
   "outputs": [],
   "source": [
    "for offset, title in enumerate(\n",
    "    [\"Decaying Particle Index\", \"Gamma\", \"Decay\", \"Inverse Decay\", \"Net Decay\"]\n",
    "):\n",
    "    fig, ax = pyplot.subplots()\n",
    "    ax.set_title(title)\n",
    "    ax.set_xscale(\"log\")\n",
    "    if title == \"Gamma\":\n",
    "        ax.set_yscale(\"log\")\n",
    "        data[\"HLN\"].abs().plot(x=\"beta\", y=data[\"HLN\"].columns[2 + offset :: 5], ax=ax)\n",
    "    else:\n",
    "        # ax.set_yscale(\"symlog\")\n",
    "        data[\"HLN\"].plot(x=\"beta\", y=data[\"HLN\"].columns[2 + offset :: 5], ax=ax)\n",
    "\n",
    "pyplot.show()"
   ]
  },
  {
   "cell_type": "markdown",
   "metadata": {},
   "source": [
    "## $N_{i_1} L_{i_2} \\leftrightarrow Q_{i_3} q_{i_4}$"
   ]
  },
  {
   "cell_type": "code",
   "execution_count": null,
   "metadata": {
    "tags": [
     "#load_NLQq",
     "=>load_n"
    ]
   },
   "outputs": [],
   "source": [
    "data[\"NLQq\"] = pd.read_csv(OUTPUT_DIR / \"n_el_ql_qr.csv\").sort_values(by=[\"beta\", \"step\"])\n",
    "\n",
    "gc.collect()"
   ]
  },
  {
   "cell_type": "code",
   "execution_count": null,
   "metadata": {
    "tags": [
     "=>load_NLQq"
    ]
   },
   "outputs": [],
   "source": [
    "fig, ax = pyplot.subplots()\n",
    "\n",
    "ax.set_xscale(\"log\")\n",
    "ax.set_yscale(\"log\")\n",
    "\n",
    "data[\"NLQq\"].abs().plot(x=\"beta\", y=data[\"NLQq\"].columns[2:], ax=ax)\n",
    "\n",
    "ax.set_ylim(bottom=1e-10, top=1e20)\n",
    "ax.set_xlim(left=1e-13, right=1e-7)"
   ]
  }
 ],
 "metadata": {
  "kernelspec": {
   "display_name": "Python 3",
   "language": "python",
   "name": "python3"
  },
  "language_info": {
   "codemirror_mode": {
    "name": "ipython",
    "version": 3
   },
   "file_extension": ".py",
   "mimetype": "text/x-python",
   "name": "python",
   "nbconvert_exporter": "python",
   "pygments_lexer": "ipython3"
  },
  "toc": {
   "base_numbering": 1,
   "nav_menu": {},
   "number_sections": true,
   "sideBar": true,
   "skip_h1_title": false,
   "title_cell": "Table of Contents",
   "title_sidebar": "Contents",
   "toc_cell": false,
   "toc_position": {},
   "toc_section_display": true,
   "toc_window_display": true
  }
 },
 "nbformat": 4,
 "nbformat_minor": 2
}
